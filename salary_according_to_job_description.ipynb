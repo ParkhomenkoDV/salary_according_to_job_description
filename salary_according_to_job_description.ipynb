{
  "cells": [
    {
      "cell_type": "markdown",
      "metadata": {
        "id": "wMy1y5Ss_fst"
      },
      "source": [
        "# Прогнозирование заработной платы по описанию вакансии"
      ]
    },
    {
      "cell_type": "markdown",
      "metadata": {},
      "source": [
        "## Импорт библиотек"
      ]
    },
    {
      "cell_type": "code",
      "execution_count": 1,
      "metadata": {
        "id": "IcwbnkPf_fs2"
      },
      "outputs": [],
      "source": [
        "import pandas as pd\n",
        "import numpy as np\n",
        "import matplotlib.pyplot as plt\n",
        "\n",
        "from collections import Counter"
      ]
    },
    {
      "cell_type": "code",
      "execution_count": 20,
      "metadata": {},
      "outputs": [],
      "source": [
        "import nltk"
      ]
    },
    {
      "cell_type": "markdown",
      "metadata": {},
      "source": [
        "## Импорт исходных данных"
      ]
    },
    {
      "cell_type": "code",
      "execution_count": 5,
      "metadata": {
        "colab": {
          "base_uri": "https://localhost:8080/"
        },
        "id": "blgEXy0a_fs5",
        "outputId": "0b12974a-83ac-4895-a460-176ae132a161"
      },
      "outputs": [],
      "source": [
        "data = pd.read_csv(\"vacancy_description.csv\", index_col=None)"
      ]
    },
    {
      "cell_type": "code",
      "execution_count": 6,
      "metadata": {},
      "outputs": [
        {
          "data": {
            "text/html": [
              "<div>\n",
              "<style scoped>\n",
              "    .dataframe tbody tr th:only-of-type {\n",
              "        vertical-align: middle;\n",
              "    }\n",
              "\n",
              "    .dataframe tbody tr th {\n",
              "        vertical-align: top;\n",
              "    }\n",
              "\n",
              "    .dataframe thead th {\n",
              "        text-align: right;\n",
              "    }\n",
              "</style>\n",
              "<table border=\"1\" class=\"dataframe\">\n",
              "  <thead>\n",
              "    <tr style=\"text-align: right;\">\n",
              "      <th></th>\n",
              "      <th>Id</th>\n",
              "      <th>Title</th>\n",
              "      <th>FullDescription</th>\n",
              "      <th>LocationRaw</th>\n",
              "      <th>LocationNormalized</th>\n",
              "      <th>ContractType</th>\n",
              "      <th>ContractTime</th>\n",
              "      <th>Company</th>\n",
              "      <th>Category</th>\n",
              "      <th>SalaryRaw</th>\n",
              "      <th>SalaryNormalized</th>\n",
              "      <th>SourceName</th>\n",
              "    </tr>\n",
              "  </thead>\n",
              "  <tbody>\n",
              "    <tr>\n",
              "      <th>0</th>\n",
              "      <td>12612628</td>\n",
              "      <td>Engineering Systems Analyst</td>\n",
              "      <td>Engineering Systems Analyst Dorking Surrey Sal...</td>\n",
              "      <td>Dorking, Surrey, Surrey</td>\n",
              "      <td>Dorking</td>\n",
              "      <td>NaN</td>\n",
              "      <td>permanent</td>\n",
              "      <td>Gregory Martin International</td>\n",
              "      <td>Engineering Jobs</td>\n",
              "      <td>20000 - 30000/annum 20-30K</td>\n",
              "      <td>25000</td>\n",
              "      <td>cv-library.co.uk</td>\n",
              "    </tr>\n",
              "    <tr>\n",
              "      <th>1</th>\n",
              "      <td>12612830</td>\n",
              "      <td>Stress Engineer Glasgow</td>\n",
              "      <td>Stress Engineer Glasgow Salary **** to **** We...</td>\n",
              "      <td>Glasgow, Scotland, Scotland</td>\n",
              "      <td>Glasgow</td>\n",
              "      <td>NaN</td>\n",
              "      <td>permanent</td>\n",
              "      <td>Gregory Martin International</td>\n",
              "      <td>Engineering Jobs</td>\n",
              "      <td>25000 - 35000/annum 25-35K</td>\n",
              "      <td>30000</td>\n",
              "      <td>cv-library.co.uk</td>\n",
              "    </tr>\n",
              "    <tr>\n",
              "      <th>2</th>\n",
              "      <td>12612844</td>\n",
              "      <td>Modelling and simulation analyst</td>\n",
              "      <td>Mathematical Modeller / Simulation Analyst / O...</td>\n",
              "      <td>Hampshire, South East, South East</td>\n",
              "      <td>Hampshire</td>\n",
              "      <td>NaN</td>\n",
              "      <td>permanent</td>\n",
              "      <td>Gregory Martin International</td>\n",
              "      <td>Engineering Jobs</td>\n",
              "      <td>20000 - 40000/annum 20-40K</td>\n",
              "      <td>30000</td>\n",
              "      <td>cv-library.co.uk</td>\n",
              "    </tr>\n",
              "    <tr>\n",
              "      <th>3</th>\n",
              "      <td>12613049</td>\n",
              "      <td>Engineering Systems Analyst / Mathematical Mod...</td>\n",
              "      <td>Engineering Systems Analyst / Mathematical Mod...</td>\n",
              "      <td>Surrey, South East, South East</td>\n",
              "      <td>Surrey</td>\n",
              "      <td>NaN</td>\n",
              "      <td>permanent</td>\n",
              "      <td>Gregory Martin International</td>\n",
              "      <td>Engineering Jobs</td>\n",
              "      <td>25000 - 30000/annum 25K-30K negotiable</td>\n",
              "      <td>27500</td>\n",
              "      <td>cv-library.co.uk</td>\n",
              "    </tr>\n",
              "    <tr>\n",
              "      <th>4</th>\n",
              "      <td>12613647</td>\n",
              "      <td>Pioneer, Miser Engineering Systems Analyst</td>\n",
              "      <td>Pioneer, Miser  Engineering Systems Analyst Do...</td>\n",
              "      <td>Surrey, South East, South East</td>\n",
              "      <td>Surrey</td>\n",
              "      <td>NaN</td>\n",
              "      <td>permanent</td>\n",
              "      <td>Gregory Martin International</td>\n",
              "      <td>Engineering Jobs</td>\n",
              "      <td>20000 - 30000/annum 20-30K</td>\n",
              "      <td>25000</td>\n",
              "      <td>cv-library.co.uk</td>\n",
              "    </tr>\n",
              "    <tr>\n",
              "      <th>...</th>\n",
              "      <td>...</td>\n",
              "      <td>...</td>\n",
              "      <td>...</td>\n",
              "      <td>...</td>\n",
              "      <td>...</td>\n",
              "      <td>...</td>\n",
              "      <td>...</td>\n",
              "      <td>...</td>\n",
              "      <td>...</td>\n",
              "      <td>...</td>\n",
              "      <td>...</td>\n",
              "      <td>...</td>\n",
              "    </tr>\n",
              "    <tr>\n",
              "      <th>244763</th>\n",
              "      <td>72705211</td>\n",
              "      <td>TEACHER OF SCIENCE</td>\n",
              "      <td>Position: Qualified Teacher Subject/Specialism...</td>\n",
              "      <td>Swindon</td>\n",
              "      <td>Swindon</td>\n",
              "      <td>NaN</td>\n",
              "      <td>contract</td>\n",
              "      <td>NaN</td>\n",
              "      <td>Teaching Jobs</td>\n",
              "      <td>450 - 500 per week</td>\n",
              "      <td>22800</td>\n",
              "      <td>hays.co.uk</td>\n",
              "    </tr>\n",
              "    <tr>\n",
              "      <th>244764</th>\n",
              "      <td>72705212</td>\n",
              "      <td>TEACHER OF BUSINESS STUDIES AND ICT</td>\n",
              "      <td>Position: Qualified Teacher or NQT Subject/Spe...</td>\n",
              "      <td>Swindon</td>\n",
              "      <td>Swindon</td>\n",
              "      <td>NaN</td>\n",
              "      <td>contract</td>\n",
              "      <td>NaN</td>\n",
              "      <td>Teaching Jobs</td>\n",
              "      <td>450 - 500 per week</td>\n",
              "      <td>22800</td>\n",
              "      <td>hays.co.uk</td>\n",
              "    </tr>\n",
              "    <tr>\n",
              "      <th>244765</th>\n",
              "      <td>72705213</td>\n",
              "      <td>ENGLISH TEACHER</td>\n",
              "      <td>Position: Qualified Teacher Subject/Specialism...</td>\n",
              "      <td>Swindon</td>\n",
              "      <td>Swindon</td>\n",
              "      <td>NaN</td>\n",
              "      <td>contract</td>\n",
              "      <td>NaN</td>\n",
              "      <td>Teaching Jobs</td>\n",
              "      <td>450 - 500 per week</td>\n",
              "      <td>22800</td>\n",
              "      <td>hays.co.uk</td>\n",
              "    </tr>\n",
              "    <tr>\n",
              "      <th>244766</th>\n",
              "      <td>72705216</td>\n",
              "      <td>SUPPLY TEACHERS</td>\n",
              "      <td>Position: Qualified Teacher Subject/Specialism...</td>\n",
              "      <td>Wiltshire</td>\n",
              "      <td>Wiltshire</td>\n",
              "      <td>NaN</td>\n",
              "      <td>contract</td>\n",
              "      <td>NaN</td>\n",
              "      <td>Teaching Jobs</td>\n",
              "      <td>450 to 500 per week</td>\n",
              "      <td>22800</td>\n",
              "      <td>hays.co.uk</td>\n",
              "    </tr>\n",
              "    <tr>\n",
              "      <th>244767</th>\n",
              "      <td>72705235</td>\n",
              "      <td>Accountant</td>\n",
              "      <td>This entrepreneurial and growing private equit...</td>\n",
              "      <td>Hitchin</td>\n",
              "      <td>Hitchin</td>\n",
              "      <td>NaN</td>\n",
              "      <td>permanent</td>\n",
              "      <td>NaN</td>\n",
              "      <td>Teaching Jobs</td>\n",
              "      <td>40-45,000</td>\n",
              "      <td>42500</td>\n",
              "      <td>hays.co.uk</td>\n",
              "    </tr>\n",
              "  </tbody>\n",
              "</table>\n",
              "<p>244768 rows × 12 columns</p>\n",
              "</div>"
            ],
            "text/plain": [
              "              Id                                              Title  \\\n",
              "0       12612628                        Engineering Systems Analyst   \n",
              "1       12612830                            Stress Engineer Glasgow   \n",
              "2       12612844                   Modelling and simulation analyst   \n",
              "3       12613049  Engineering Systems Analyst / Mathematical Mod...   \n",
              "4       12613647         Pioneer, Miser Engineering Systems Analyst   \n",
              "...          ...                                                ...   \n",
              "244763  72705211                                 TEACHER OF SCIENCE   \n",
              "244764  72705212                TEACHER OF BUSINESS STUDIES AND ICT   \n",
              "244765  72705213                                    ENGLISH TEACHER   \n",
              "244766  72705216                                    SUPPLY TEACHERS   \n",
              "244767  72705235                                         Accountant   \n",
              "\n",
              "                                          FullDescription  \\\n",
              "0       Engineering Systems Analyst Dorking Surrey Sal...   \n",
              "1       Stress Engineer Glasgow Salary **** to **** We...   \n",
              "2       Mathematical Modeller / Simulation Analyst / O...   \n",
              "3       Engineering Systems Analyst / Mathematical Mod...   \n",
              "4       Pioneer, Miser  Engineering Systems Analyst Do...   \n",
              "...                                                   ...   \n",
              "244763  Position: Qualified Teacher Subject/Specialism...   \n",
              "244764  Position: Qualified Teacher or NQT Subject/Spe...   \n",
              "244765  Position: Qualified Teacher Subject/Specialism...   \n",
              "244766  Position: Qualified Teacher Subject/Specialism...   \n",
              "244767  This entrepreneurial and growing private equit...   \n",
              "\n",
              "                              LocationRaw LocationNormalized ContractType  \\\n",
              "0                 Dorking, Surrey, Surrey            Dorking          NaN   \n",
              "1             Glasgow, Scotland, Scotland            Glasgow          NaN   \n",
              "2       Hampshire, South East, South East          Hampshire          NaN   \n",
              "3          Surrey, South East, South East             Surrey          NaN   \n",
              "4          Surrey, South East, South East             Surrey          NaN   \n",
              "...                                   ...                ...          ...   \n",
              "244763                            Swindon            Swindon          NaN   \n",
              "244764                            Swindon            Swindon          NaN   \n",
              "244765                            Swindon            Swindon          NaN   \n",
              "244766                          Wiltshire          Wiltshire          NaN   \n",
              "244767                            Hitchin            Hitchin          NaN   \n",
              "\n",
              "       ContractTime                       Company          Category  \\\n",
              "0         permanent  Gregory Martin International  Engineering Jobs   \n",
              "1         permanent  Gregory Martin International  Engineering Jobs   \n",
              "2         permanent  Gregory Martin International  Engineering Jobs   \n",
              "3         permanent  Gregory Martin International  Engineering Jobs   \n",
              "4         permanent  Gregory Martin International  Engineering Jobs   \n",
              "...             ...                           ...               ...   \n",
              "244763     contract                           NaN     Teaching Jobs   \n",
              "244764     contract                           NaN     Teaching Jobs   \n",
              "244765     contract                           NaN     Teaching Jobs   \n",
              "244766     contract                           NaN     Teaching Jobs   \n",
              "244767    permanent                           NaN     Teaching Jobs   \n",
              "\n",
              "                                     SalaryRaw  SalaryNormalized  \\\n",
              "0                   20000 - 30000/annum 20-30K             25000   \n",
              "1                   25000 - 35000/annum 25-35K             30000   \n",
              "2                   20000 - 40000/annum 20-40K             30000   \n",
              "3       25000 - 30000/annum 25K-30K negotiable             27500   \n",
              "4                   20000 - 30000/annum 20-30K             25000   \n",
              "...                                        ...               ...   \n",
              "244763                      450 - 500 per week             22800   \n",
              "244764                      450 - 500 per week             22800   \n",
              "244765                      450 - 500 per week             22800   \n",
              "244766                     450 to 500 per week             22800   \n",
              "244767                               40-45,000             42500   \n",
              "\n",
              "              SourceName  \n",
              "0       cv-library.co.uk  \n",
              "1       cv-library.co.uk  \n",
              "2       cv-library.co.uk  \n",
              "3       cv-library.co.uk  \n",
              "4       cv-library.co.uk  \n",
              "...                  ...  \n",
              "244763        hays.co.uk  \n",
              "244764        hays.co.uk  \n",
              "244765        hays.co.uk  \n",
              "244766        hays.co.uk  \n",
              "244767        hays.co.uk  \n",
              "\n",
              "[244768 rows x 12 columns]"
            ]
          },
          "execution_count": 6,
          "metadata": {},
          "output_type": "execute_result"
        }
      ],
      "source": [
        "data"
      ]
    },
    {
      "cell_type": "markdown",
      "metadata": {},
      "source": [
        "## Выделение целевой переменной"
      ]
    },
    {
      "cell_type": "markdown",
      "metadata": {
        "id": "HXK8XcTV_fs6"
      },
      "source": [
        "Одна из проблем с прогнозированием заработной платы заключается в том, что она странным образом распределяется: \n",
        "есть много людей, получающих стандартную зарплату, и несколько человек, которые получают кучу денег. \n",
        "\n",
        "Распределение имеет «толстый хвост» с правой стороны, что неудобно для минимизации MSE.\n",
        "\n",
        "Есть несколько методов борьбы с этим: использование другой функции потерь, прогнозирование логарифмической цели вместо необработанной цели или даже замена целей их процентилями среди всех зарплат в обучающем наборе. Сейчас мы будем использовать логарифм.\n",
        "\n",
        "_Подробнее можно прочитать [в официальном описании](https://www.kaggle.com/c/job-salary-prediction#description)._"
      ]
    },
    {
      "cell_type": "code",
      "execution_count": 9,
      "metadata": {},
      "outputs": [],
      "source": [
        "data['Log1pSalary'] = np.log1p(data['SalaryNormalized']).astype('float32')"
      ]
    },
    {
      "cell_type": "code",
      "execution_count": 15,
      "metadata": {
        "colab": {
          "base_uri": "https://localhost:8080/",
          "height": 265
        },
        "id": "pIlJq8Du_fs6",
        "outputId": "c7f668c7-0cc5-4212-8714-7972327d6b50"
      },
      "outputs": [
        {
          "data": {
            "image/png": "[encoded data removed]",
            "text/plain": [
              "<Figure size 1600x800 with 2 Axes>"
            ]
          },
          "metadata": {},
          "output_type": "display_data"
        }
      ],
      "source": [
        "plt.figure(figsize=(16, 8))\n",
        "\n",
        "plt.subplot(1, 2, 1)\n",
        "plt.hist(data[\"SalaryNormalized\"], bins=20)\n",
        "plt.grid(True)\n",
        "plt.title('SalaryNormalized')\n",
        "\n",
        "plt.subplot(1, 2, 2)\n",
        "plt.hist(data['Log1pSalary'], bins=20)\n",
        "plt.title('Log1pSalary')\n",
        "\n",
        "plt.show()"
      ]
    },
    {
      "cell_type": "markdown",
      "metadata": {},
      "source": [
        "## Выделение признаков"
      ]
    },
    {
      "cell_type": "markdown",
      "metadata": {
        "id": "TIaYg-NO_fs7"
      },
      "source": [
        "Наша задача — предсказать одно число, `Log1pSalary`.\n",
        "\n",
        "Для этого наша модель может получить доступ к ряду признаков:\n",
        "* Произвольный текст: `Title` и `FullDescription`.\n",
        "* Категориальные: `Category`, `Company`, `LocationNormalized`, `ContractType` и `ContractTime`."
      ]
    },
    {
      "cell_type": "code",
      "execution_count": 18,
      "metadata": {
        "colab": {
          "base_uri": "https://localhost:8080/",
          "height": 193
        },
        "id": "eOOUvrcm_fs7",
        "outputId": "fa4e09c9-62b1-4142-c8d4-ae7dc6046cc0"
      },
      "outputs": [],
      "source": [
        "text_columns = [\"Title\", \"FullDescription\"]\n",
        "categorical_columns = [\"Category\", \"Company\", \"LocationNormalized\", \"ContractType\", \"ContractTime\"]\n",
        "target_column = \"Log1pSalary\""
      ]
    },
    {
      "cell_type": "code",
      "execution_count": 17,
      "metadata": {},
      "outputs": [
        {
          "data": {
            "text/html": [
              "<div>\n",
              "<style scoped>\n",
              "    .dataframe tbody tr th:only-of-type {\n",
              "        vertical-align: middle;\n",
              "    }\n",
              "\n",
              "    .dataframe tbody tr th {\n",
              "        vertical-align: top;\n",
              "    }\n",
              "\n",
              "    .dataframe thead th {\n",
              "        text-align: right;\n",
              "    }\n",
              "</style>\n",
              "<table border=\"1\" class=\"dataframe\">\n",
              "  <thead>\n",
              "    <tr style=\"text-align: right;\">\n",
              "      <th></th>\n",
              "      <th>Id</th>\n",
              "      <th>Title</th>\n",
              "      <th>FullDescription</th>\n",
              "      <th>LocationRaw</th>\n",
              "      <th>LocationNormalized</th>\n",
              "      <th>ContractType</th>\n",
              "      <th>ContractTime</th>\n",
              "      <th>Company</th>\n",
              "      <th>Category</th>\n",
              "      <th>SalaryRaw</th>\n",
              "      <th>SalaryNormalized</th>\n",
              "      <th>SourceName</th>\n",
              "      <th>Log1pSalary</th>\n",
              "    </tr>\n",
              "  </thead>\n",
              "  <tbody>\n",
              "    <tr>\n",
              "      <th>223492</th>\n",
              "      <td>72400698</td>\n",
              "      <td>Design Engineer</td>\n",
              "      <td>As part of strategic growth plans a global man...</td>\n",
              "      <td>UK West Midlands</td>\n",
              "      <td>West Midlands</td>\n",
              "      <td>NaN</td>\n",
              "      <td>permanent</td>\n",
              "      <td>JAM Recruitment Ltd</td>\n",
              "      <td>Engineering Jobs</td>\n",
              "      <td>20000 - 30000.00 per annum + Excellent Benefit...</td>\n",
              "      <td>25000</td>\n",
              "      <td>careers4a.com</td>\n",
              "      <td>10.126671</td>\n",
              "    </tr>\n",
              "    <tr>\n",
              "      <th>62638</th>\n",
              "      <td>68701260</td>\n",
              "      <td>Personal Insurance Administrator</td>\n",
              "      <td>Our client is a highly respected firm of Insur...</td>\n",
              "      <td>Stratford-Upon-Avon Warwickshire West Midlands</td>\n",
              "      <td>Stratford-Upon-Avon</td>\n",
              "      <td>NaN</td>\n",
              "      <td>permanent</td>\n",
              "      <td>Plus One Personnel</td>\n",
              "      <td>Accounting &amp; Finance Jobs</td>\n",
              "      <td>From 15,000 to 18,000 per annum</td>\n",
              "      <td>16500</td>\n",
              "      <td>totaljobs.com</td>\n",
              "      <td>9.711176</td>\n",
              "    </tr>\n",
              "    <tr>\n",
              "      <th>217613</th>\n",
              "      <td>72287712</td>\n",
              "      <td>Field Sales Executive / Area Sales Executive</td>\n",
              "      <td>Field Sales Executive / Area Sales Executive –...</td>\n",
              "      <td>Northallerton</td>\n",
              "      <td>Northallerton</td>\n",
              "      <td>full_time</td>\n",
              "      <td>NaN</td>\n",
              "      <td>BMS Recruitment</td>\n",
              "      <td>Sales Jobs</td>\n",
              "      <td>30000</td>\n",
              "      <td>30000</td>\n",
              "      <td>careerbuilder.com</td>\n",
              "      <td>10.308986</td>\n",
              "    </tr>\n",
              "    <tr>\n",
              "      <th>237096</th>\n",
              "      <td>72577771</td>\n",
              "      <td>Data/MI/Governance/Business/Analyst</td>\n",
              "      <td>Data/MI/Governance/Business/Analyst My client ...</td>\n",
              "      <td>Lancashire Manchester M21 0</td>\n",
              "      <td>Manchester Science Park</td>\n",
              "      <td>NaN</td>\n",
              "      <td>permanent</td>\n",
              "      <td>PSD Technology Contracts Ltd.</td>\n",
              "      <td>IT Jobs</td>\n",
              "      <td>40000.00 GBP Annual</td>\n",
              "      <td>40000</td>\n",
              "      <td>jobserve.com</td>\n",
              "      <td>10.596660</td>\n",
              "    </tr>\n",
              "  </tbody>\n",
              "</table>\n",
              "</div>"
            ],
            "text/plain": [
              "              Id                                         Title  \\\n",
              "223492  72400698                               Design Engineer   \n",
              "62638   68701260              Personal Insurance Administrator   \n",
              "217613  72287712  Field Sales Executive / Area Sales Executive   \n",
              "237096  72577771           Data/MI/Governance/Business/Analyst   \n",
              "\n",
              "                                          FullDescription  \\\n",
              "223492  As part of strategic growth plans a global man...   \n",
              "62638   Our client is a highly respected firm of Insur...   \n",
              "217613  Field Sales Executive / Area Sales Executive –...   \n",
              "237096  Data/MI/Governance/Business/Analyst My client ...   \n",
              "\n",
              "                                           LocationRaw  \\\n",
              "223492                                UK West Midlands   \n",
              "62638   Stratford-Upon-Avon Warwickshire West Midlands   \n",
              "217613                                   Northallerton   \n",
              "237096                     Lancashire Manchester M21 0   \n",
              "\n",
              "             LocationNormalized ContractType ContractTime  \\\n",
              "223492            West Midlands          NaN    permanent   \n",
              "62638       Stratford-Upon-Avon          NaN    permanent   \n",
              "217613            Northallerton    full_time          NaN   \n",
              "237096  Manchester Science Park          NaN    permanent   \n",
              "\n",
              "                              Company                   Category  \\\n",
              "223492            JAM Recruitment Ltd           Engineering Jobs   \n",
              "62638              Plus One Personnel  Accounting & Finance Jobs   \n",
              "217613                BMS Recruitment                 Sales Jobs   \n",
              "237096  PSD Technology Contracts Ltd.                    IT Jobs   \n",
              "\n",
              "                                                SalaryRaw  SalaryNormalized  \\\n",
              "223492  20000 - 30000.00 per annum + Excellent Benefit...             25000   \n",
              "62638                     From 15,000 to 18,000 per annum             16500   \n",
              "217613                                              30000             30000   \n",
              "237096                                40000.00 GBP Annual             40000   \n",
              "\n",
              "               SourceName  Log1pSalary  \n",
              "223492      careers4a.com    10.126671  \n",
              "62638       totaljobs.com     9.711176  \n",
              "217613  careerbuilder.com    10.308986  \n",
              "237096       jobserve.com    10.596660  "
            ]
          },
          "execution_count": 17,
          "metadata": {},
          "output_type": "execute_result"
        }
      ],
      "source": [
        "data[categorical_columns] = data[categorical_columns].fillna('NaN') # cast missing values to string \"NaN\"\n",
        "\n",
        "data.sample(4)"
      ]
    },
    {
      "cell_type": "markdown",
      "metadata": {
        "id": "4Xp9cDx2_fs8"
      },
      "source": [
        "## Предварительная обработка текстовых данных\n",
        "\n",
        "Как и на прошлой неделе, применение NLP к проблеме начинается с токенизации: разделения необработанного текста на последовательности токенов (слов, знаков препинания и т. д.).\n",
        "\n",
        "Ваша задача — перевести в нижний регистр и маркировать все тексты в столбцах `Title` и `FullDescription`. Сохраняйте токенизированные данные в виде строки токенов, разделенных пробелами, из соображений производительности.\n",
        "\n",
        "Можно использовать токенизаторы nltk. Утверждения были разработаны для WordPunctTokenizer, небольшие отклонения допустимы."
      ]
    },
    {
      "cell_type": "code",
      "execution_count": 21,
      "metadata": {
        "id": "riDndT8B_fs8"
      },
      "outputs": [
        {
          "name": "stderr",
          "output_type": "stream",
          "text": [
            "C:\\Users\\parkh\\AppData\\Local\\Temp\\ipykernel_4356\\4091780559.py:3: FutureWarning: the convert_dtype parameter is deprecated and will be removed in a future version.  Do ``ser.astype(object).apply()`` instead if you want ``convert_dtype=False``.\n",
            "  data[\"FullDescription\"] = data[\"FullDescription\"].astype(str).apply(lambda x: ' '.join(tokenizer.tokenize(x.lower())), 1)\n",
            "C:\\Users\\parkh\\AppData\\Local\\Temp\\ipykernel_4356\\4091780559.py:4: FutureWarning: the convert_dtype parameter is deprecated and will be removed in a future version.  Do ``ser.astype(object).apply()`` instead if you want ``convert_dtype=False``.\n",
            "  data[\"Title\"] = data[\"Title\"].astype(str).apply(lambda x: ' '.join(tokenizer.tokenize(x.lower())), 1)\n"
          ]
        }
      ],
      "source": [
        "tokenizer = nltk.tokenize.WordPunctTokenizer()\n",
        "\n",
        "data[\"FullDescription\"] = data[\"FullDescription\"].astype(str).apply(lambda x: ' '.join(tokenizer.tokenize(x.lower())), 1)\n",
        "data[\"Title\"] = data[\"Title\"].astype(str).apply(lambda x: ' '.join(tokenizer.tokenize(x.lower())), 1)"
      ]
    },
    {
      "cell_type": "code",
      "execution_count": 23,
      "metadata": {},
      "outputs": [
        {
          "data": {
            "text/html": [
              "<div>\n",
              "<style scoped>\n",
              "    .dataframe tbody tr th:only-of-type {\n",
              "        vertical-align: middle;\n",
              "    }\n",
              "\n",
              "    .dataframe tbody tr th {\n",
              "        vertical-align: top;\n",
              "    }\n",
              "\n",
              "    .dataframe thead th {\n",
              "        text-align: right;\n",
              "    }\n",
              "</style>\n",
              "<table border=\"1\" class=\"dataframe\">\n",
              "  <thead>\n",
              "    <tr style=\"text-align: right;\">\n",
              "      <th></th>\n",
              "      <th>Id</th>\n",
              "      <th>Title</th>\n",
              "      <th>FullDescription</th>\n",
              "      <th>LocationRaw</th>\n",
              "      <th>LocationNormalized</th>\n",
              "      <th>ContractType</th>\n",
              "      <th>ContractTime</th>\n",
              "      <th>Company</th>\n",
              "      <th>Category</th>\n",
              "      <th>SalaryRaw</th>\n",
              "      <th>SalaryNormalized</th>\n",
              "      <th>SourceName</th>\n",
              "      <th>Log1pSalary</th>\n",
              "    </tr>\n",
              "  </thead>\n",
              "  <tbody>\n",
              "    <tr>\n",
              "      <th>0</th>\n",
              "      <td>12612628</td>\n",
              "      <td>engineering systems analyst</td>\n",
              "      <td>engineering systems analyst dorking surrey sal...</td>\n",
              "      <td>Dorking, Surrey, Surrey</td>\n",
              "      <td>Dorking</td>\n",
              "      <td>NaN</td>\n",
              "      <td>permanent</td>\n",
              "      <td>Gregory Martin International</td>\n",
              "      <td>Engineering Jobs</td>\n",
              "      <td>20000 - 30000/annum 20-30K</td>\n",
              "      <td>25000</td>\n",
              "      <td>cv-library.co.uk</td>\n",
              "      <td>10.126671</td>\n",
              "    </tr>\n",
              "    <tr>\n",
              "      <th>1</th>\n",
              "      <td>12612830</td>\n",
              "      <td>stress engineer glasgow</td>\n",
              "      <td>stress engineer glasgow salary **** to **** we...</td>\n",
              "      <td>Glasgow, Scotland, Scotland</td>\n",
              "      <td>Glasgow</td>\n",
              "      <td>NaN</td>\n",
              "      <td>permanent</td>\n",
              "      <td>Gregory Martin International</td>\n",
              "      <td>Engineering Jobs</td>\n",
              "      <td>25000 - 35000/annum 25-35K</td>\n",
              "      <td>30000</td>\n",
              "      <td>cv-library.co.uk</td>\n",
              "      <td>10.308986</td>\n",
              "    </tr>\n",
              "    <tr>\n",
              "      <th>2</th>\n",
              "      <td>12612844</td>\n",
              "      <td>modelling and simulation analyst</td>\n",
              "      <td>mathematical modeller / simulation analyst / o...</td>\n",
              "      <td>Hampshire, South East, South East</td>\n",
              "      <td>Hampshire</td>\n",
              "      <td>NaN</td>\n",
              "      <td>permanent</td>\n",
              "      <td>Gregory Martin International</td>\n",
              "      <td>Engineering Jobs</td>\n",
              "      <td>20000 - 40000/annum 20-40K</td>\n",
              "      <td>30000</td>\n",
              "      <td>cv-library.co.uk</td>\n",
              "      <td>10.308986</td>\n",
              "    </tr>\n",
              "    <tr>\n",
              "      <th>3</th>\n",
              "      <td>12613049</td>\n",
              "      <td>engineering systems analyst / mathematical mod...</td>\n",
              "      <td>engineering systems analyst / mathematical mod...</td>\n",
              "      <td>Surrey, South East, South East</td>\n",
              "      <td>Surrey</td>\n",
              "      <td>NaN</td>\n",
              "      <td>permanent</td>\n",
              "      <td>Gregory Martin International</td>\n",
              "      <td>Engineering Jobs</td>\n",
              "      <td>25000 - 30000/annum 25K-30K negotiable</td>\n",
              "      <td>27500</td>\n",
              "      <td>cv-library.co.uk</td>\n",
              "      <td>10.221977</td>\n",
              "    </tr>\n",
              "  </tbody>\n",
              "</table>\n",
              "</div>"
            ],
            "text/plain": [
              "         Id                                              Title  \\\n",
              "0  12612628                        engineering systems analyst   \n",
              "1  12612830                            stress engineer glasgow   \n",
              "2  12612844                   modelling and simulation analyst   \n",
              "3  12613049  engineering systems analyst / mathematical mod...   \n",
              "\n",
              "                                     FullDescription  \\\n",
              "0  engineering systems analyst dorking surrey sal...   \n",
              "1  stress engineer glasgow salary **** to **** we...   \n",
              "2  mathematical modeller / simulation analyst / o...   \n",
              "3  engineering systems analyst / mathematical mod...   \n",
              "\n",
              "                         LocationRaw LocationNormalized ContractType  \\\n",
              "0            Dorking, Surrey, Surrey            Dorking          NaN   \n",
              "1        Glasgow, Scotland, Scotland            Glasgow          NaN   \n",
              "2  Hampshire, South East, South East          Hampshire          NaN   \n",
              "3     Surrey, South East, South East             Surrey          NaN   \n",
              "\n",
              "  ContractTime                       Company          Category  \\\n",
              "0    permanent  Gregory Martin International  Engineering Jobs   \n",
              "1    permanent  Gregory Martin International  Engineering Jobs   \n",
              "2    permanent  Gregory Martin International  Engineering Jobs   \n",
              "3    permanent  Gregory Martin International  Engineering Jobs   \n",
              "\n",
              "                                SalaryRaw  SalaryNormalized        SourceName  \\\n",
              "0              20000 - 30000/annum 20-30K             25000  cv-library.co.uk   \n",
              "1              25000 - 35000/annum 25-35K             30000  cv-library.co.uk   \n",
              "2              20000 - 40000/annum 20-40K             30000  cv-library.co.uk   \n",
              "3  25000 - 30000/annum 25K-30K negotiable             27500  cv-library.co.uk   \n",
              "\n",
              "   Log1pSalary  \n",
              "0    10.126671  \n",
              "1    10.308986  \n",
              "2    10.308986  \n",
              "3    10.221977  "
            ]
          },
          "execution_count": 23,
          "metadata": {},
          "output_type": "execute_result"
        }
      ],
      "source": [
        "data.head(4)"
      ]
    },
    {
      "cell_type": "markdown",
      "metadata": {
        "id": "OtuxOxFh_fs9"
      },
      "source": [
        "\n",
        "Не все слова одинаково полезны. Некоторые из них представляют собой опечатки или редкие слова, которые встречаются всего несколько раз. \n",
        "\n",
        "Давайте посчитаем, сколько раз каждое слово присутствует в данных, чтобы построить «белый список» известных слов.\n",
        "\n",
        "Считаем, сколько раз каждый токен встречается как в `Title`, так и в `FullDescription`.\n",
        "Создаем словарь {токен: его количество}"
      ]
    },
    {
      "cell_type": "code",
      "execution_count": null,
      "metadata": {
        "id": "BwoYJjCy_fs-"
      },
      "outputs": [],
      "source": [
        "\n",
        "\n",
        "tokens = []\n",
        "for title in data[\"Title\"]:\n",
        "    tokens += title.split()\n",
        "for title in data[\"FullDescription\"]:\n",
        "    tokens += title.split()\n",
        "    \n",
        "token_counts = Counter(tokens)\n",
        "\n",
        "# hint: you may or may not want to use collections.Counter"
      ]
    },
    {
      "cell_type": "code",
      "execution_count": null,
      "metadata": {
        "colab": {
          "base_uri": "https://localhost:8080/"
        },
        "id": "ZXyIb8Uh_fs-",
        "outputId": "28983c07-6106-482f-a1de-87249a9c7ec3"
      },
      "outputs": [
        {
          "name": "stdout",
          "output_type": "stream",
          "text": [
            "Total unique tokens : 202704\n",
            "('and', 2657388)\n",
            "('.', 2523216)\n",
            "(',', 2318606)\n",
            "('the', 2080994)\n",
            "('to', 2019884)\n",
            "...\n",
            "('stephanietraveltraderecruitmnt', 1)\n",
            "('ruabon', 1)\n",
            "('lowehays', 1)\n",
            "Correct!\n"
          ]
        }
      ],
      "source": [
        "print(\"Total unique tokens :\", len(token_counts))\n",
        "print('\\n'.join(map(str, token_counts.most_common(n=5))))\n",
        "print('...')\n",
        "print('\\n'.join(map(str, token_counts.most_common()[-3:])))\n",
        "\n",
        "assert token_counts.most_common(1)[0][1] in  range(2600000, 2700000)\n",
        "assert len(token_counts) in range(200000, 210000)\n",
        "print('Correct!')"
      ]
    },
    {
      "cell_type": "code",
      "execution_count": null,
      "metadata": {
        "colab": {
          "base_uri": "https://localhost:8080/",
          "height": 279
        },
        "id": "Hl6nYPAq_fs_",
        "outputId": "8913a69c-70e1-4f53-bc8f-c105cc6cd583"
      },
      "outputs": [
        {
          "data": {
            "image/png": "[encoded data removed]",
            "text/plain": [
              "<Figure size 432x288 with 1 Axes>"
            ]
          },
          "metadata": {
            "needs_background": "light",
            "tags": []
          },
          "output_type": "display_data"
        }
      ],
      "source": [
        "# Let's see how many words are there for each count\n",
        "plt.hist(list(token_counts.values()), range=[0, 10**4], bins=50, log=True)\n",
        "plt.xlabel(\"Word counts\");"
      ]
    },
    {
      "cell_type": "markdown",
      "metadata": {
        "id": "4dID9skN_fs_"
      },
      "source": [
        "Now filter tokens a list of all tokens that occur at least 10 times."
      ]
    },
    {
      "cell_type": "code",
      "execution_count": null,
      "metadata": {
        "id": "TU3jldaQ_fs_"
      },
      "outputs": [],
      "source": [
        "min_count = 10\n",
        "\n",
        "# tokens from token_counts keys that had at least min_count occurrences throughout the dataset\n",
        "tokens = [token for token, count in token_counts.items() if count >= min_count]"
      ]
    },
    {
      "cell_type": "code",
      "execution_count": null,
      "metadata": {
        "colab": {
          "base_uri": "https://localhost:8080/"
        },
        "id": "1X7JIpSm_ftA",
        "outputId": "e1df7f29-cf6d-4025-cf91-adce42f9a1fb"
      },
      "outputs": [
        {
          "name": "stdout",
          "output_type": "stream",
          "text": [
            "Vocabulary size: 34158\n",
            "Correct!\n"
          ]
        }
      ],
      "source": [
        "# Add a special tokens for unknown and empty words\n",
        "UNK, PAD = \"UNK\", \"PAD\"\n",
        "tokens = [UNK, PAD] + sorted(tokens)\n",
        "print(\"Vocabulary size:\", len(tokens))\n",
        "\n",
        "assert type(tokens) == list\n",
        "assert len(tokens) in range(32000, 35000)\n",
        "assert 'me' in tokens\n",
        "assert UNK in tokens\n",
        "print(\"Correct!\")"
      ]
    },
    {
      "cell_type": "markdown",
      "metadata": {
        "id": "0By6vXx5_ftA"
      },
      "source": [
        "Build an inverse token index: a dictionary from token(string) to it's index in `tokens` (int)"
      ]
    },
    {
      "cell_type": "code",
      "execution_count": null,
      "metadata": {
        "id": "BaW62FAF_ftA"
      },
      "outputs": [],
      "source": [
        "token_to_id = {token: id for id, token in enumerate(tokens)}"
      ]
    },
    {
      "cell_type": "code",
      "execution_count": null,
      "metadata": {
        "colab": {
          "base_uri": "https://localhost:8080/"
        },
        "id": "T3gHjAkl_ftB",
        "outputId": "6e150d2a-050b-4d58-e4ae-f0dda4831c16"
      },
      "outputs": [
        {
          "name": "stdout",
          "output_type": "stream",
          "text": [
            "Correct!\n"
          ]
        }
      ],
      "source": [
        "assert isinstance(token_to_id, dict)\n",
        "assert len(token_to_id) == len(tokens)\n",
        "for tok in tokens:\n",
        "    assert tokens[token_to_id[tok]] == tok\n",
        "\n",
        "print(\"Correct!\")"
      ]
    },
    {
      "cell_type": "markdown",
      "metadata": {
        "id": "w82YvHL-_ftB"
      },
      "source": [
        "And finally, let's use the vocabulary you've built to map text lines into neural network-digestible matrices."
      ]
    },
    {
      "cell_type": "code",
      "execution_count": null,
      "metadata": {
        "id": "HA9aa63p_ftC"
      },
      "outputs": [],
      "source": [
        "UNK_IX, PAD_IX = map(token_to_id.get, [UNK, PAD])\n",
        "\n",
        "def as_matrix(sequences, max_len=None):\n",
        "    \"\"\" Convert a list of tokens into a matrix with padding \"\"\"\n",
        "    if isinstance(sequences[0], str):\n",
        "        sequences = list(map(str.split, sequences))\n",
        "        \n",
        "    max_len = min(max(map(len, sequences)), max_len or float('inf'))\n",
        "    \n",
        "    matrix = np.full((len(sequences), max_len), np.int32(PAD_IX))\n",
        "    for i,seq in enumerate(sequences):\n",
        "        row_ix = [token_to_id.get(word, UNK_IX) for word in seq[:max_len]]\n",
        "        matrix[i, :len(row_ix)] = row_ix\n",
        "    \n",
        "    return matrix"
      ]
    },
    {
      "cell_type": "code",
      "execution_count": null,
      "metadata": {
        "id": "ykgGjl5XN3By"
      },
      "outputs": [],
      "source": [
        "List[str] -> (batch_size, max_len)"
      ]
    },
    {
      "cell_type": "code",
      "execution_count": null,
      "metadata": {
        "colab": {
          "base_uri": "https://localhost:8080/"
        },
        "id": "izKzhfa2_ftC",
        "outputId": "7eab9289-18cd-4065-8db2-ba44a98feec8"
      },
      "outputs": [
        {
          "name": "stdout",
          "output_type": "stream",
          "text": [
            "Lines:\n",
            "engineering systems analyst\n",
            "hr assistant\n",
            "senior ec & i engineer\n",
            "\n",
            "Matrix:\n",
            "[[10807 30161  2166     1     1]\n",
            " [15020  2844     1     1     1]\n",
            " [27645 10201    16 15215 10804]]\n"
          ]
        }
      ],
      "source": [
        "print(\"Lines:\")\n",
        "print('\\n'.join(data[\"Title\"][::100000].values), end='\\n\\n')\n",
        "print(\"Matrix:\")\n",
        "print(as_matrix(data[\"Title\"][::100000]))"
      ]
    },
    {
      "cell_type": "markdown",
      "metadata": {
        "id": "yi0Bf6Rf_ftD"
      },
      "source": [
        "Now let's  encode the categirical data we have.\n",
        "\n",
        "As usual, we shall use one-hot encoding for simplicity. Kudos if you implement more advanced encodings: tf-idf, pseudo-time-series, etc."
      ]
    },
    {
      "cell_type": "code",
      "execution_count": null,
      "metadata": {
        "colab": {
          "base_uri": "https://localhost:8080/"
        },
        "id": "bZj8pfKU_ftD",
        "outputId": "b5a570a6-6270-47b2-c8c8-290d8e7ac750"
      },
      "outputs": [
        {
          "data": {
            "text/plain": [
              "DictVectorizer(dtype=<class 'numpy.float32'>, separator='=', sort=True,\n",
              "               sparse=False)"
            ]
          },
          "execution_count": 26,
          "metadata": {
            "tags": []
          },
          "output_type": "execute_result"
        }
      ],
      "source": [
        "from sklearn.feature_extraction import DictVectorizer\n",
        "\n",
        "# we only consider top-1k most frequent companies to minimize memory usage\n",
        "top_companies, top_counts = zip(*Counter(data['Company']).most_common(1000))\n",
        "recognized_companies = set(top_companies)\n",
        "data[\"Company\"] = data[\"Company\"].apply(lambda comp: comp if comp in recognized_companies else \"Other\")\n",
        "\n",
        "categorical_vectorizer = DictVectorizer(dtype=np.float32, sparse=False)\n",
        "categorical_vectorizer.fit(data[categorical_columns].apply(dict, axis=1))"
      ]
    },
    {
      "cell_type": "markdown",
      "metadata": {
        "id": "CH_24zGX_ftD"
      },
      "source": [
        "### The deep learning part\n",
        "\n",
        "Once we've learned to tokenize the data, let's design a machine learning experiment.\n",
        "\n",
        "As before, we won't focus too much on validation, opting for a simple train-test split.\n",
        "\n",
        "__To be completely rigorous,__ we've comitted a small crime here: we used the whole data for tokenization and vocabulary building. A more strict way would be to do that part on training set only. You may want to do that and measure the magnitude of changes."
      ]
    },
    {
      "cell_type": "code",
      "execution_count": null,
      "metadata": {
        "colab": {
          "base_uri": "https://localhost:8080/"
        },
        "id": "dCAafZEh_ftE",
        "outputId": "ef28a590-60bd-4752-ea22-0bb2b14e786b"
      },
      "outputs": [
        {
          "name": "stdout",
          "output_type": "stream",
          "text": [
            "Train size =  195814\n",
            "Validation size =  48954\n"
          ]
        }
      ],
      "source": [
        "from sklearn.model_selection import train_test_split\n",
        "\n",
        "data_train, data_val = train_test_split(data, test_size=0.2, random_state=42)\n",
        "data_train.index = range(len(data_train))\n",
        "data_val.index = range(len(data_val))\n",
        "\n",
        "print(\"Train size = \", len(data_train))\n",
        "print(\"Validation size = \", len(data_val))"
      ]
    },
    {
      "cell_type": "code",
      "execution_count": null,
      "metadata": {
        "id": "StIHWtEa_ftE"
      },
      "outputs": [],
      "source": [
        "def make_batch(data, max_len=None, word_dropout=0):\n",
        "    \"\"\"\n",
        "    Creates a keras-friendly dict from the batch data.\n",
        "    :param word_dropout: replaces token index with UNK_IX with this probability\n",
        "    :returns: a dict with {'title' : int64[batch, title_max_len]\n",
        "    \"\"\"\n",
        "    batch = {}\n",
        "    batch[\"Title\"] = as_matrix(data[\"Title\"].values, max_len)\n",
        "    batch[\"FullDescription\"] = as_matrix(data[\"FullDescription\"].values, max_len)\n",
        "    batch['Categorical'] = categorical_vectorizer.transform(data[categorical_columns].apply(dict, axis=1))\n",
        "    \n",
        "    if word_dropout != 0:\n",
        "        batch[\"FullDescription\"] = apply_word_dropout(batch[\"FullDescription\"], 1. - word_dropout)\n",
        "    \n",
        "    if target_column in data.columns:\n",
        "        batch[target_column] = data[target_column].values\n",
        "    \n",
        "    return batch\n",
        "\n",
        "def apply_word_dropout(matrix, keep_prop, replace_with=UNK_IX, pad_ix=PAD_IX,):\n",
        "    dropout_mask = np.random.choice(2, np.shape(matrix), p=[keep_prop, 1 - keep_prop])\n",
        "    dropout_mask &= matrix != pad_ix\n",
        "    return np.choose(dropout_mask, [matrix, np.full_like(matrix, replace_with)])"
      ]
    },
    {
      "cell_type": "code",
      "execution_count": null,
      "metadata": {
        "colab": {
          "base_uri": "https://localhost:8080/"
        },
        "id": "4PTw54_h_ftE",
        "outputId": "7bd43493-e2c4-47bd-8df1-1aa54536c521"
      },
      "outputs": [
        {
          "data": {
            "text/plain": [
              "{'Categorical': array([[0., 0., 0., ..., 0., 0., 0.],\n",
              "        [0., 0., 0., ..., 0., 0., 0.],\n",
              "        [0., 0., 0., ..., 0., 0., 0.]], dtype=float32),\n",
              " 'FullDescription': array([[27645, 29893, 33674, 32939,   982, 27645, 29893, 33674, 16451,\n",
              "         32939],\n",
              "        [29239,   197, 19175, 20042, 15554, 23162,  4051, 25511,   907,\n",
              "            82],\n",
              "        [30746, 21956, 20601,  6409, 16451,  8165, 27493,   982, 30412,\n",
              "         17746]], dtype=int32),\n",
              " 'Log1pSalary': array([ 9.71154 , 10.463132, 10.71444 ], dtype=float32),\n",
              " 'Title': array([[27645, 29893, 33674,     1,     1,     1,     1],\n",
              "        [29239,   197, 19175, 20042, 15554, 23162,  4051],\n",
              "        [10609, 30412, 17746,    33,  8705, 29157,    65]], dtype=int32)}"
            ]
          },
          "execution_count": 30,
          "metadata": {
            "tags": []
          },
          "output_type": "execute_result"
        }
      ],
      "source": [
        "make_batch(data_train[:3], max_len=10)"
      ]
    },
    {
      "cell_type": "markdown",
      "metadata": {
        "id": "82cwxWvJ_ftF"
      },
      "source": [
        "#### Architecture\n",
        "\n",
        "Our basic model consists of three branches:\n",
        "* Title encoder\n",
        "* Description encoder\n",
        "* Categorical features encoder\n",
        "\n",
        "We will then feed all 3 branches into one common network that predicts salary.\n",
        "\n",
        "<img src=\"https://github.com/yandexdataschool/nlp_course/raw/master/resources/w2_conv_arch.png\" width=600px>"
      ]
    },
    {
      "cell_type": "markdown",
      "metadata": {
        "id": "6TLINjsi_ftF"
      },
      "source": [
        "This clearly doesn't fit into keras' __Sequential__ interface. To build such a network, one will have to use __[Keras Functional API](https://keras.io/models/model/)__."
      ]
    },
    {
      "cell_type": "code",
      "execution_count": null,
      "metadata": {
        "id": "uKV6JqtB_ftG"
      },
      "outputs": [],
      "source": [
        "import keras\n",
        "import keras.layers as L"
      ]
    },
    {
      "cell_type": "code",
      "execution_count": null,
      "metadata": {
        "id": "0IRw5ACB_ftG"
      },
      "outputs": [],
      "source": [
        "def build_model(n_tokens=len(tokens), n_cat_features=len(categorical_vectorizer.vocabulary_), hid_size=64):\n",
        "    \"\"\" Build a model that maps three data sources to a single linear output: predicted log1p(salary) \"\"\"\n",
        "    \n",
        "    l_title = L.Input(shape=[None], name=\"Title\")\n",
        "    l_descr = L.Input(shape=[None], name=\"FullDescription\")\n",
        "    l_categ = L.Input(shape=[n_cat_features], name=\"Categorical\")\n",
        "    \n",
        "    # Build your monster!\n",
        "    \n",
        "    emb = L.Embedding(n_tokens, 2 * hid_size)\n",
        "    \n",
        "    l_title_emb = emb(l_title)\n",
        "    l_descr_emb = emb(l_descr)\n",
        "    \n",
        "    l_title_conv = L.Convolution1D(hid_size, kernel_size=2, activation='relu')(l_title_emb)\n",
        "    l_descr_conv = L.Convolution1D(hid_size, kernel_size=5, activation='relu')(l_descr_emb)\n",
        "    \n",
        "    l_title_out = L.GlobalMaxPool1D()(l_title_conv)\n",
        "    l_descr_out = L.GlobalMaxPool1D()(l_descr_conv)\n",
        "    \n",
        "    l_categ_out = L.Dense(hid_size, activation='relu')(l_categ)\n",
        "    \n",
        "    l_combined = L.Concatenate()([l_title_out, l_descr_out, l_categ_out])\n",
        "    l_dense_clf = L.Dense(hid_size, activation='relu')(l_combined)\n",
        "    \n",
        "    output_layer = L.Dense(1)(l_dense_clf)\n",
        "    # end of your code\n",
        "    \n",
        "    model = keras.models.Model(inputs=[l_title, l_descr, l_categ], outputs=[output_layer])\n",
        "    model.compile('adam', 'mean_squared_error', metrics=['mean_absolute_error'])\n",
        "    return model\n",
        "    "
      ]
    },
    {
      "cell_type": "code",
      "execution_count": null,
      "metadata": {
        "colab": {
          "base_uri": "https://localhost:8080/"
        },
        "id": "T7nFNdvl_ftH",
        "outputId": "b0053d3d-deed-4635-e313-1a9c269a68f4"
      },
      "outputs": [
        {
          "name": "stdout",
          "output_type": "stream",
          "text": [
            "Model: \"model\"\n",
            "__________________________________________________________________________________________________\n",
            "Layer (type)                    Output Shape         Param #     Connected to                     \n",
            "==================================================================================================\n",
            "Title (InputLayer)              [(None, None)]       0                                            \n",
            "__________________________________________________________________________________________________\n",
            "FullDescription (InputLayer)    [(None, None)]       0                                            \n",
            "__________________________________________________________________________________________________\n",
            "embedding (Embedding)           (None, None, 128)    4372224     Title[0][0]                      \n",
            "                                                                 FullDescription[0][0]            \n",
            "__________________________________________________________________________________________________\n",
            "conv1d (Conv1D)                 (None, None, 64)     16448       embedding[0][0]                  \n",
            "__________________________________________________________________________________________________\n",
            "conv1d_1 (Conv1D)               (None, None, 64)     41024       embedding[1][0]                  \n",
            "__________________________________________________________________________________________________\n",
            "Categorical (InputLayer)        [(None, 3768)]       0                                            \n",
            "__________________________________________________________________________________________________\n",
            "global_max_pooling1d (GlobalMax (None, 64)           0           conv1d[0][0]                     \n",
            "__________________________________________________________________________________________________\n",
            "global_max_pooling1d_1 (GlobalM (None, 64)           0           conv1d_1[0][0]                   \n",
            "__________________________________________________________________________________________________\n",
            "dense (Dense)                   (None, 64)           241216      Categorical[0][0]                \n",
            "__________________________________________________________________________________________________\n",
            "concatenate (Concatenate)       (None, 192)          0           global_max_pooling1d[0][0]       \n",
            "                                                                 global_max_pooling1d_1[0][0]     \n",
            "                                                                 dense[0][0]                      \n",
            "__________________________________________________________________________________________________\n",
            "dense_1 (Dense)                 (None, 64)           12352       concatenate[0][0]                \n",
            "__________________________________________________________________________________________________\n",
            "dense_2 (Dense)                 (None, 1)            65          dense_1[0][0]                    \n",
            "==================================================================================================\n",
            "Total params: 4,683,329\n",
            "Trainable params: 4,683,329\n",
            "Non-trainable params: 0\n",
            "__________________________________________________________________________________________________\n"
          ]
        },
        {
          "name": "stderr",
          "output_type": "stream",
          "text": [
            "/usr/local/lib/python3.7/dist-packages/tensorflow/python/keras/engine/functional.py:595: UserWarning: Input dict contained keys ['Log1pSalary'] which did not match any model input. They will be ignored by the model.\n",
            "  [n for n in tensors.keys() if n not in ref_input_names])\n"
          ]
        }
      ],
      "source": [
        "model = build_model()\n",
        "model.summary()\n",
        "\n",
        "dummy_pred = model.predict(make_batch(data_train[:100]))\n",
        "dummy_loss = model.train_on_batch(make_batch(data_train[:100]), data_train['Log1pSalary'][:100])[0]\n",
        "assert dummy_pred.shape == (100, 1)\n",
        "assert len(np.unique(dummy_pred)) > 20, \"model returns suspiciously few unique outputs. Check your initialization\"\n",
        "assert np.ndim(dummy_loss) == 0 and 0. <= dummy_loss <= 250., \"make sure you minimize MSE\""
      ]
    },
    {
      "cell_type": "markdown",
      "metadata": {
        "id": "zlKebc4i_ftH"
      },
      "source": [
        "#### Training and evaluation\n",
        "\n",
        "As usual, we gonna feed our monster with random minibatches of data. \n",
        "\n",
        "As we train, we want to monitor not only loss function, which is computed in log-space, but also the actual error measured in dollars."
      ]
    },
    {
      "cell_type": "code",
      "execution_count": null,
      "metadata": {
        "id": "Z4wPaV3Z_ftH"
      },
      "outputs": [],
      "source": [
        "def iterate_minibatches(data, batch_size=256, shuffle=True, cycle=False, **kwargs):\n",
        "    \"\"\" iterates minibatches of data in random order \"\"\"\n",
        "    while True:\n",
        "        indices = np.arange(len(data))\n",
        "        if shuffle:\n",
        "            indices = np.random.permutation(indices)\n",
        "\n",
        "        for start in range(0, len(indices), batch_size):\n",
        "            batch = make_batch(data.iloc[indices[start : start + batch_size]], **kwargs)\n",
        "            target = batch.pop(target_column)\n",
        "            yield batch, target\n",
        "        \n",
        "        if not cycle: break"
      ]
    },
    {
      "cell_type": "markdown",
      "metadata": {
        "id": "tnwdKJ-C_ftH"
      },
      "source": [
        "### Model training\n",
        "\n",
        "We can now fit our model the usual minibatch way. The interesting part is that we train on an infinite stream of minibatches, produced by `iterate_minibatches` function."
      ]
    },
    {
      "cell_type": "code",
      "execution_count": null,
      "metadata": {
        "colab": {
          "base_uri": "https://localhost:8080/",
          "height": 616
        },
        "id": "9iGUJPt6_ftI",
        "outputId": "7650c842-4bc9-4c73-9f81-55504382ab30"
      },
      "outputs": [
        {
          "name": "stderr",
          "output_type": "stream",
          "text": [
            "/usr/local/lib/python3.7/dist-packages/tensorflow/python/keras/engine/training.py:1844: UserWarning: `Model.fit_generator` is deprecated and will be removed in a future version. Please use `Model.fit`, which supports generators.\n",
            "  warnings.warn('`Model.fit_generator` is deprecated and '\n"
          ]
        },
        {
          "name": "stdout",
          "output_type": "stream",
          "text": [
            "Epoch 1/10\n",
            "100/100 [==============================] - 55s 542ms/step - loss: 51.9782 - mean_absolute_error: 6.0277 - val_loss: 0.3460 - val_mean_absolute_error: 0.4538\n",
            "Epoch 2/10\n",
            "100/100 [==============================] - 41s 406ms/step - loss: 0.2951 - mean_absolute_error: 0.4215 - val_loss: 0.2529 - val_mean_absolute_error: 0.3852\n",
            "Epoch 3/10\n",
            "100/100 [==============================] - 39s 393ms/step - loss: 0.1908 - mean_absolute_error: 0.3348 - val_loss: 0.1969 - val_mean_absolute_error: 0.3423\n",
            "Epoch 4/10\n",
            "100/100 [==============================] - 35s 357ms/step - loss: 0.1501 - mean_absolute_error: 0.2947 - val_loss: 0.1373 - val_mean_absolute_error: 0.2811\n",
            "Epoch 5/10\n",
            "100/100 [==============================] - 33s 324ms/step - loss: 0.1235 - mean_absolute_error: 0.2639 - val_loss: 0.1276 - val_mean_absolute_error: 0.2712\n",
            "Epoch 6/10\n",
            " 37/100 [==========>...................] - ETA: 14s - loss: 0.1079 - mean_absolute_error: 0.2451"
          ]
        },
        {
          "ename": "KeyboardInterrupt",
          "evalue": "ignored",
          "output_type": "error",
          "traceback": [
            "\u001b[0;31m---------------------------------------------------------------------------\u001b[0m",
            "\u001b[0;31mKeyboardInterrupt\u001b[0m                         Traceback (most recent call last)",
            "\u001b[0;32m<ipython-input-35-2cd289f91ed9>\u001b[0m in \u001b[0;36m<module>\u001b[0;34m()\u001b[0m\n\u001b[1;32m      9\u001b[0m \u001b[0;34m\u001b[0m\u001b[0m\n\u001b[1;32m     10\u001b[0m                     \u001b[0mvalidation_data\u001b[0m\u001b[0;34m=\u001b[0m\u001b[0miterate_minibatches\u001b[0m\u001b[0;34m(\u001b[0m\u001b[0mdata_val\u001b[0m\u001b[0;34m,\u001b[0m \u001b[0mbatch_size\u001b[0m\u001b[0;34m,\u001b[0m \u001b[0mcycle\u001b[0m\u001b[0;34m=\u001b[0m\u001b[0;32mTrue\u001b[0m\u001b[0;34m)\u001b[0m\u001b[0;34m,\u001b[0m\u001b[0;34m\u001b[0m\u001b[0;34m\u001b[0m\u001b[0m\n\u001b[0;32m---> 11\u001b[0;31m                     \u001b[0mvalidation_steps\u001b[0m\u001b[0;34m=\u001b[0m\u001b[0mdata_val\u001b[0m\u001b[0;34m.\u001b[0m\u001b[0mshape\u001b[0m\u001b[0;34m[\u001b[0m\u001b[0;36m0\u001b[0m\u001b[0;34m]\u001b[0m \u001b[0;34m//\u001b[0m \u001b[0mbatch_size\u001b[0m\u001b[0;34m\u001b[0m\u001b[0;34m\u001b[0m\u001b[0m\n\u001b[0m\u001b[1;32m     12\u001b[0m                    )\n",
            "\u001b[0;32m/usr/local/lib/python3.7/dist-packages/tensorflow/python/keras/engine/training.py\u001b[0m in \u001b[0;36mfit_generator\u001b[0;34m(self, generator, steps_per_epoch, epochs, verbose, callbacks, validation_data, validation_steps, validation_freq, class_weight, max_queue_size, workers, use_multiprocessing, shuffle, initial_epoch)\u001b[0m\n\u001b[1;32m   1859\u001b[0m         \u001b[0muse_multiprocessing\u001b[0m\u001b[0;34m=\u001b[0m\u001b[0muse_multiprocessing\u001b[0m\u001b[0;34m,\u001b[0m\u001b[0;34m\u001b[0m\u001b[0;34m\u001b[0m\u001b[0m\n\u001b[1;32m   1860\u001b[0m         \u001b[0mshuffle\u001b[0m\u001b[0;34m=\u001b[0m\u001b[0mshuffle\u001b[0m\u001b[0;34m,\u001b[0m\u001b[0;34m\u001b[0m\u001b[0;34m\u001b[0m\u001b[0m\n\u001b[0;32m-> 1861\u001b[0;31m         initial_epoch=initial_epoch)\n\u001b[0m\u001b[1;32m   1862\u001b[0m \u001b[0;34m\u001b[0m\u001b[0m\n\u001b[1;32m   1863\u001b[0m   def evaluate_generator(self,\n",
            "\u001b[0;32m/usr/local/lib/python3.7/dist-packages/tensorflow/python/keras/engine/training.py\u001b[0m in \u001b[0;36mfit\u001b[0;34m(self, x, y, batch_size, epochs, verbose, callbacks, validation_split, validation_data, shuffle, class_weight, sample_weight, initial_epoch, steps_per_epoch, validation_steps, validation_batch_size, validation_freq, max_queue_size, workers, use_multiprocessing)\u001b[0m\n\u001b[1;32m   1098\u001b[0m                 _r=1):\n\u001b[1;32m   1099\u001b[0m               \u001b[0mcallbacks\u001b[0m\u001b[0;34m.\u001b[0m\u001b[0mon_train_batch_begin\u001b[0m\u001b[0;34m(\u001b[0m\u001b[0mstep\u001b[0m\u001b[0;34m)\u001b[0m\u001b[0;34m\u001b[0m\u001b[0;34m\u001b[0m\u001b[0m\n\u001b[0;32m-> 1100\u001b[0;31m               \u001b[0mtmp_logs\u001b[0m \u001b[0;34m=\u001b[0m \u001b[0mself\u001b[0m\u001b[0;34m.\u001b[0m\u001b[0mtrain_function\u001b[0m\u001b[0;34m(\u001b[0m\u001b[0miterator\u001b[0m\u001b[0;34m)\u001b[0m\u001b[0;34m\u001b[0m\u001b[0;34m\u001b[0m\u001b[0m\n\u001b[0m\u001b[1;32m   1101\u001b[0m               \u001b[0;32mif\u001b[0m \u001b[0mdata_handler\u001b[0m\u001b[0;34m.\u001b[0m\u001b[0mshould_sync\u001b[0m\u001b[0;34m:\u001b[0m\u001b[0;34m\u001b[0m\u001b[0;34m\u001b[0m\u001b[0m\n\u001b[1;32m   1102\u001b[0m                 \u001b[0mcontext\u001b[0m\u001b[0;34m.\u001b[0m\u001b[0masync_wait\u001b[0m\u001b[0;34m(\u001b[0m\u001b[0;34m)\u001b[0m\u001b[0;34m\u001b[0m\u001b[0;34m\u001b[0m\u001b[0m\n",
            "\u001b[0;32m/usr/local/lib/python3.7/dist-packages/tensorflow/python/eager/def_function.py\u001b[0m in \u001b[0;36m__call__\u001b[0;34m(self, *args, **kwds)\u001b[0m\n\u001b[1;32m    826\u001b[0m     \u001b[0mtracing_count\u001b[0m \u001b[0;34m=\u001b[0m \u001b[0mself\u001b[0m\u001b[0;34m.\u001b[0m\u001b[0mexperimental_get_tracing_count\u001b[0m\u001b[0;34m(\u001b[0m\u001b[0;34m)\u001b[0m\u001b[0;34m\u001b[0m\u001b[0;34m\u001b[0m\u001b[0m\n\u001b[1;32m    827\u001b[0m     \u001b[0;32mwith\u001b[0m \u001b[0mtrace\u001b[0m\u001b[0;34m.\u001b[0m\u001b[0mTrace\u001b[0m\u001b[0;34m(\u001b[0m\u001b[0mself\u001b[0m\u001b[0;34m.\u001b[0m\u001b[0m_name\u001b[0m\u001b[0;34m)\u001b[0m \u001b[0;32mas\u001b[0m \u001b[0mtm\u001b[0m\u001b[0;34m:\u001b[0m\u001b[0;34m\u001b[0m\u001b[0;34m\u001b[0m\u001b[0m\n\u001b[0;32m--> 828\u001b[0;31m       \u001b[0mresult\u001b[0m \u001b[0;34m=\u001b[0m \u001b[0mself\u001b[0m\u001b[0;34m.\u001b[0m\u001b[0m_call\u001b[0m\u001b[0;34m(\u001b[0m\u001b[0;34m*\u001b[0m\u001b[0margs\u001b[0m\u001b[0;34m,\u001b[0m \u001b[0;34m**\u001b[0m\u001b[0mkwds\u001b[0m\u001b[0;34m)\u001b[0m\u001b[0;34m\u001b[0m\u001b[0;34m\u001b[0m\u001b[0m\n\u001b[0m\u001b[1;32m    829\u001b[0m       \u001b[0mcompiler\u001b[0m \u001b[0;34m=\u001b[0m \u001b[0;34m\"xla\"\u001b[0m \u001b[0;32mif\u001b[0m \u001b[0mself\u001b[0m\u001b[0;34m.\u001b[0m\u001b[0m_experimental_compile\u001b[0m \u001b[0;32melse\u001b[0m \u001b[0;34m\"nonXla\"\u001b[0m\u001b[0;34m\u001b[0m\u001b[0;34m\u001b[0m\u001b[0m\n\u001b[1;32m    830\u001b[0m       \u001b[0mnew_tracing_count\u001b[0m \u001b[0;34m=\u001b[0m \u001b[0mself\u001b[0m\u001b[0;34m.\u001b[0m\u001b[0mexperimental_get_tracing_count\u001b[0m\u001b[0;34m(\u001b[0m\u001b[0;34m)\u001b[0m\u001b[0;34m\u001b[0m\u001b[0;34m\u001b[0m\u001b[0m\n",
            "\u001b[0;32m/usr/local/lib/python3.7/dist-packages/tensorflow/python/eager/def_function.py\u001b[0m in \u001b[0;36m_call\u001b[0;34m(self, *args, **kwds)\u001b[0m\n\u001b[1;32m    853\u001b[0m       \u001b[0;31m# In this case we have created variables on the first call, so we run the\u001b[0m\u001b[0;34m\u001b[0m\u001b[0;34m\u001b[0m\u001b[0;34m\u001b[0m\u001b[0m\n\u001b[1;32m    854\u001b[0m       \u001b[0;31m# defunned version which is guaranteed to never create variables.\u001b[0m\u001b[0;34m\u001b[0m\u001b[0;34m\u001b[0m\u001b[0;34m\u001b[0m\u001b[0m\n\u001b[0;32m--> 855\u001b[0;31m       \u001b[0;32mreturn\u001b[0m \u001b[0mself\u001b[0m\u001b[0;34m.\u001b[0m\u001b[0m_stateless_fn\u001b[0m\u001b[0;34m(\u001b[0m\u001b[0;34m*\u001b[0m\u001b[0margs\u001b[0m\u001b[0;34m,\u001b[0m \u001b[0;34m**\u001b[0m\u001b[0mkwds\u001b[0m\u001b[0;34m)\u001b[0m  \u001b[0;31m# pylint: disable=not-callable\u001b[0m\u001b[0;34m\u001b[0m\u001b[0;34m\u001b[0m\u001b[0m\n\u001b[0m\u001b[1;32m    856\u001b[0m     \u001b[0;32melif\u001b[0m \u001b[0mself\u001b[0m\u001b[0;34m.\u001b[0m\u001b[0m_stateful_fn\u001b[0m \u001b[0;32mis\u001b[0m \u001b[0;32mnot\u001b[0m \u001b[0;32mNone\u001b[0m\u001b[0;34m:\u001b[0m\u001b[0;34m\u001b[0m\u001b[0;34m\u001b[0m\u001b[0m\n\u001b[1;32m    857\u001b[0m       \u001b[0;31m# Release the lock early so that multiple threads can perform the call\u001b[0m\u001b[0;34m\u001b[0m\u001b[0;34m\u001b[0m\u001b[0;34m\u001b[0m\u001b[0m\n",
            "\u001b[0;32m/usr/local/lib/python3.7/dist-packages/tensorflow/python/eager/function.py\u001b[0m in \u001b[0;36m__call__\u001b[0;34m(self, *args, **kwargs)\u001b[0m\n\u001b[1;32m   2941\u001b[0m        filtered_flat_args) = self._maybe_define_function(args, kwargs)\n\u001b[1;32m   2942\u001b[0m     return graph_function._call_flat(\n\u001b[0;32m-> 2943\u001b[0;31m         filtered_flat_args, captured_inputs=graph_function.captured_inputs)  # pylint: disable=protected-access\n\u001b[0m\u001b[1;32m   2944\u001b[0m \u001b[0;34m\u001b[0m\u001b[0m\n\u001b[1;32m   2945\u001b[0m   \u001b[0;34m@\u001b[0m\u001b[0mproperty\u001b[0m\u001b[0;34m\u001b[0m\u001b[0;34m\u001b[0m\u001b[0m\n",
            "\u001b[0;32m/usr/local/lib/python3.7/dist-packages/tensorflow/python/eager/function.py\u001b[0m in \u001b[0;36m_call_flat\u001b[0;34m(self, args, captured_inputs, cancellation_manager)\u001b[0m\n\u001b[1;32m   1917\u001b[0m       \u001b[0;31m# No tape is watching; skip to running the function.\u001b[0m\u001b[0;34m\u001b[0m\u001b[0;34m\u001b[0m\u001b[0;34m\u001b[0m\u001b[0m\n\u001b[1;32m   1918\u001b[0m       return self._build_call_outputs(self._inference_function.call(\n\u001b[0;32m-> 1919\u001b[0;31m           ctx, args, cancellation_manager=cancellation_manager))\n\u001b[0m\u001b[1;32m   1920\u001b[0m     forward_backward = self._select_forward_and_backward_functions(\n\u001b[1;32m   1921\u001b[0m         \u001b[0margs\u001b[0m\u001b[0;34m,\u001b[0m\u001b[0;34m\u001b[0m\u001b[0;34m\u001b[0m\u001b[0m\n",
            "\u001b[0;32m/usr/local/lib/python3.7/dist-packages/tensorflow/python/eager/function.py\u001b[0m in \u001b[0;36mcall\u001b[0;34m(self, ctx, args, cancellation_manager)\u001b[0m\n\u001b[1;32m    558\u001b[0m               \u001b[0minputs\u001b[0m\u001b[0;34m=\u001b[0m\u001b[0margs\u001b[0m\u001b[0;34m,\u001b[0m\u001b[0;34m\u001b[0m\u001b[0;34m\u001b[0m\u001b[0m\n\u001b[1;32m    559\u001b[0m               \u001b[0mattrs\u001b[0m\u001b[0;34m=\u001b[0m\u001b[0mattrs\u001b[0m\u001b[0;34m,\u001b[0m\u001b[0;34m\u001b[0m\u001b[0;34m\u001b[0m\u001b[0m\n\u001b[0;32m--> 560\u001b[0;31m               ctx=ctx)\n\u001b[0m\u001b[1;32m    561\u001b[0m         \u001b[0;32melse\u001b[0m\u001b[0;34m:\u001b[0m\u001b[0;34m\u001b[0m\u001b[0;34m\u001b[0m\u001b[0m\n\u001b[1;32m    562\u001b[0m           outputs = execute.execute_with_cancellation(\n",
            "\u001b[0;32m/usr/local/lib/python3.7/dist-packages/tensorflow/python/eager/execute.py\u001b[0m in \u001b[0;36mquick_execute\u001b[0;34m(op_name, num_outputs, inputs, attrs, ctx, name)\u001b[0m\n\u001b[1;32m     58\u001b[0m     \u001b[0mctx\u001b[0m\u001b[0;34m.\u001b[0m\u001b[0mensure_initialized\u001b[0m\u001b[0;34m(\u001b[0m\u001b[0;34m)\u001b[0m\u001b[0;34m\u001b[0m\u001b[0;34m\u001b[0m\u001b[0m\n\u001b[1;32m     59\u001b[0m     tensors = pywrap_tfe.TFE_Py_Execute(ctx._handle, device_name, op_name,\n\u001b[0;32m---> 60\u001b[0;31m                                         inputs, attrs, num_outputs)\n\u001b[0m\u001b[1;32m     61\u001b[0m   \u001b[0;32mexcept\u001b[0m \u001b[0mcore\u001b[0m\u001b[0;34m.\u001b[0m\u001b[0m_NotOkStatusException\u001b[0m \u001b[0;32mas\u001b[0m \u001b[0me\u001b[0m\u001b[0;34m:\u001b[0m\u001b[0;34m\u001b[0m\u001b[0;34m\u001b[0m\u001b[0m\n\u001b[1;32m     62\u001b[0m     \u001b[0;32mif\u001b[0m \u001b[0mname\u001b[0m \u001b[0;32mis\u001b[0m \u001b[0;32mnot\u001b[0m \u001b[0;32mNone\u001b[0m\u001b[0;34m:\u001b[0m\u001b[0;34m\u001b[0m\u001b[0;34m\u001b[0m\u001b[0m\n",
            "\u001b[0;31mKeyboardInterrupt\u001b[0m: "
          ]
        }
      ],
      "source": [
        "batch_size = 256\n",
        "epochs = 10            # definitely too small\n",
        "steps_per_epoch = 100  # for full pass over data: (len(data_train) - 1) // batch_size + 1\n",
        "\n",
        "model = build_model()\n",
        "\n",
        "model.fit_generator(iterate_minibatches(data_train, batch_size, cycle=True, word_dropout=0.05), \n",
        "                    epochs=epochs, steps_per_epoch=steps_per_epoch,\n",
        "                    \n",
        "                    validation_data=iterate_minibatches(data_val, batch_size, cycle=True),\n",
        "                    validation_steps=data_val.shape[0] // batch_size\n",
        "                   )"
      ]
    },
    {
      "cell_type": "code",
      "execution_count": null,
      "metadata": {
        "colab": {
          "base_uri": "https://localhost:8080/",
          "height": 358
        },
        "id": "eutHoqk7_ftI",
        "outputId": "9a3f1836-4f5f-4791-b937-688629053600"
      },
      "outputs": [
        {
          "ename": "KeyboardInterrupt",
          "evalue": "ignored",
          "output_type": "error",
          "traceback": [
            "\u001b[0;31m---------------------------------------------------------------------------\u001b[0m",
            "\u001b[0;31mKeyboardInterrupt\u001b[0m                         Traceback (most recent call last)",
            "\u001b[0;32m<ipython-input-36-eecee7a39dbe>\u001b[0m in \u001b[0;36m<module>\u001b[0;34m()\u001b[0m\n\u001b[1;32m     11\u001b[0m     \u001b[0;32mreturn\u001b[0m \u001b[0msquared_error\u001b[0m\u001b[0;34m,\u001b[0m \u001b[0mabs_error\u001b[0m\u001b[0;34m\u001b[0m\u001b[0;34m\u001b[0m\u001b[0m\n\u001b[1;32m     12\u001b[0m \u001b[0;34m\u001b[0m\u001b[0m\n\u001b[0;32m---> 13\u001b[0;31m \u001b[0mprint_metrics\u001b[0m\u001b[0;34m(\u001b[0m\u001b[0mmodel\u001b[0m\u001b[0;34m,\u001b[0m \u001b[0mdata_train\u001b[0m\u001b[0;34m,\u001b[0m \u001b[0mname\u001b[0m\u001b[0;34m=\u001b[0m\u001b[0;34m'Train'\u001b[0m\u001b[0;34m)\u001b[0m\u001b[0;34m\u001b[0m\u001b[0;34m\u001b[0m\u001b[0m\n\u001b[0m\u001b[1;32m     14\u001b[0m \u001b[0mprint_metrics\u001b[0m\u001b[0;34m(\u001b[0m\u001b[0mmodel\u001b[0m\u001b[0;34m,\u001b[0m \u001b[0mdata_val\u001b[0m\u001b[0;34m,\u001b[0m \u001b[0mname\u001b[0m\u001b[0;34m=\u001b[0m\u001b[0;34m'Val'\u001b[0m\u001b[0;34m)\u001b[0m\u001b[0;34m;\u001b[0m\u001b[0;34m\u001b[0m\u001b[0;34m\u001b[0m\u001b[0m\n",
            "\u001b[0;32m<ipython-input-36-eecee7a39dbe>\u001b[0m in \u001b[0;36mprint_metrics\u001b[0;34m(model, data, batch_size, name, **kw)\u001b[0m\n\u001b[1;32m      2\u001b[0m     \u001b[0msquared_error\u001b[0m \u001b[0;34m=\u001b[0m \u001b[0mabs_error\u001b[0m \u001b[0;34m=\u001b[0m \u001b[0mnum_samples\u001b[0m \u001b[0;34m=\u001b[0m \u001b[0;36m0.0\u001b[0m\u001b[0;34m\u001b[0m\u001b[0;34m\u001b[0m\u001b[0m\n\u001b[1;32m      3\u001b[0m     \u001b[0;32mfor\u001b[0m \u001b[0mbatch_x\u001b[0m\u001b[0;34m,\u001b[0m \u001b[0mbatch_y\u001b[0m \u001b[0;32min\u001b[0m \u001b[0miterate_minibatches\u001b[0m\u001b[0;34m(\u001b[0m\u001b[0mdata\u001b[0m\u001b[0;34m,\u001b[0m \u001b[0mbatch_size\u001b[0m\u001b[0;34m=\u001b[0m\u001b[0mbatch_size\u001b[0m\u001b[0;34m,\u001b[0m \u001b[0mshuffle\u001b[0m\u001b[0;34m=\u001b[0m\u001b[0;32mFalse\u001b[0m\u001b[0;34m,\u001b[0m \u001b[0;34m**\u001b[0m\u001b[0mkw\u001b[0m\u001b[0;34m)\u001b[0m\u001b[0;34m:\u001b[0m\u001b[0;34m\u001b[0m\u001b[0;34m\u001b[0m\u001b[0m\n\u001b[0;32m----> 4\u001b[0;31m         \u001b[0mbatch_pred\u001b[0m \u001b[0;34m=\u001b[0m \u001b[0mmodel\u001b[0m\u001b[0;34m.\u001b[0m\u001b[0mpredict\u001b[0m\u001b[0;34m(\u001b[0m\u001b[0mbatch_x\u001b[0m\u001b[0;34m)\u001b[0m\u001b[0;34m[\u001b[0m\u001b[0;34m:\u001b[0m\u001b[0;34m,\u001b[0m \u001b[0;36m0\u001b[0m\u001b[0;34m]\u001b[0m\u001b[0;34m\u001b[0m\u001b[0;34m\u001b[0m\u001b[0m\n\u001b[0m\u001b[1;32m      5\u001b[0m         \u001b[0msquared_error\u001b[0m \u001b[0;34m+=\u001b[0m \u001b[0mnp\u001b[0m\u001b[0;34m.\u001b[0m\u001b[0msum\u001b[0m\u001b[0;34m(\u001b[0m\u001b[0mnp\u001b[0m\u001b[0;34m.\u001b[0m\u001b[0msquare\u001b[0m\u001b[0;34m(\u001b[0m\u001b[0mbatch_pred\u001b[0m \u001b[0;34m-\u001b[0m \u001b[0mbatch_y\u001b[0m\u001b[0;34m)\u001b[0m\u001b[0;34m)\u001b[0m\u001b[0;34m\u001b[0m\u001b[0;34m\u001b[0m\u001b[0m\n\u001b[1;32m      6\u001b[0m         \u001b[0mabs_error\u001b[0m \u001b[0;34m+=\u001b[0m \u001b[0mnp\u001b[0m\u001b[0;34m.\u001b[0m\u001b[0msum\u001b[0m\u001b[0;34m(\u001b[0m\u001b[0mnp\u001b[0m\u001b[0;34m.\u001b[0m\u001b[0mabs\u001b[0m\u001b[0;34m(\u001b[0m\u001b[0mbatch_pred\u001b[0m \u001b[0;34m-\u001b[0m \u001b[0mbatch_y\u001b[0m\u001b[0;34m)\u001b[0m\u001b[0;34m)\u001b[0m\u001b[0;34m\u001b[0m\u001b[0;34m\u001b[0m\u001b[0m\n",
            "\u001b[0;32m/usr/local/lib/python3.7/dist-packages/tensorflow/python/keras/engine/training.py\u001b[0m in \u001b[0;36mpredict\u001b[0;34m(self, x, batch_size, verbose, steps, callbacks, max_queue_size, workers, use_multiprocessing)\u001b[0m\n\u001b[1;32m   1627\u001b[0m           \u001b[0;32mfor\u001b[0m \u001b[0mstep\u001b[0m \u001b[0;32min\u001b[0m \u001b[0mdata_handler\u001b[0m\u001b[0;34m.\u001b[0m\u001b[0msteps\u001b[0m\u001b[0;34m(\u001b[0m\u001b[0;34m)\u001b[0m\u001b[0;34m:\u001b[0m\u001b[0;34m\u001b[0m\u001b[0;34m\u001b[0m\u001b[0m\n\u001b[1;32m   1628\u001b[0m             \u001b[0mcallbacks\u001b[0m\u001b[0;34m.\u001b[0m\u001b[0mon_predict_batch_begin\u001b[0m\u001b[0;34m(\u001b[0m\u001b[0mstep\u001b[0m\u001b[0;34m)\u001b[0m\u001b[0;34m\u001b[0m\u001b[0;34m\u001b[0m\u001b[0m\n\u001b[0;32m-> 1629\u001b[0;31m             \u001b[0mtmp_batch_outputs\u001b[0m \u001b[0;34m=\u001b[0m \u001b[0mself\u001b[0m\u001b[0;34m.\u001b[0m\u001b[0mpredict_function\u001b[0m\u001b[0;34m(\u001b[0m\u001b[0miterator\u001b[0m\u001b[0;34m)\u001b[0m\u001b[0;34m\u001b[0m\u001b[0;34m\u001b[0m\u001b[0m\n\u001b[0m\u001b[1;32m   1630\u001b[0m             \u001b[0;32mif\u001b[0m \u001b[0mdata_handler\u001b[0m\u001b[0;34m.\u001b[0m\u001b[0mshould_sync\u001b[0m\u001b[0;34m:\u001b[0m\u001b[0;34m\u001b[0m\u001b[0;34m\u001b[0m\u001b[0m\n\u001b[1;32m   1631\u001b[0m               \u001b[0mcontext\u001b[0m\u001b[0;34m.\u001b[0m\u001b[0masync_wait\u001b[0m\u001b[0;34m(\u001b[0m\u001b[0;34m)\u001b[0m\u001b[0;34m\u001b[0m\u001b[0;34m\u001b[0m\u001b[0m\n",
            "\u001b[0;32m/usr/local/lib/python3.7/dist-packages/tensorflow/python/eager/def_function.py\u001b[0m in \u001b[0;36m__call__\u001b[0;34m(self, *args, **kwds)\u001b[0m\n\u001b[1;32m    826\u001b[0m     \u001b[0mtracing_count\u001b[0m \u001b[0;34m=\u001b[0m \u001b[0mself\u001b[0m\u001b[0;34m.\u001b[0m\u001b[0mexperimental_get_tracing_count\u001b[0m\u001b[0;34m(\u001b[0m\u001b[0;34m)\u001b[0m\u001b[0;34m\u001b[0m\u001b[0;34m\u001b[0m\u001b[0m\n\u001b[1;32m    827\u001b[0m     \u001b[0;32mwith\u001b[0m \u001b[0mtrace\u001b[0m\u001b[0;34m.\u001b[0m\u001b[0mTrace\u001b[0m\u001b[0;34m(\u001b[0m\u001b[0mself\u001b[0m\u001b[0;34m.\u001b[0m\u001b[0m_name\u001b[0m\u001b[0;34m)\u001b[0m \u001b[0;32mas\u001b[0m \u001b[0mtm\u001b[0m\u001b[0;34m:\u001b[0m\u001b[0;34m\u001b[0m\u001b[0;34m\u001b[0m\u001b[0m\n\u001b[0;32m--> 828\u001b[0;31m       \u001b[0mresult\u001b[0m \u001b[0;34m=\u001b[0m \u001b[0mself\u001b[0m\u001b[0;34m.\u001b[0m\u001b[0m_call\u001b[0m\u001b[0;34m(\u001b[0m\u001b[0;34m*\u001b[0m\u001b[0margs\u001b[0m\u001b[0;34m,\u001b[0m \u001b[0;34m**\u001b[0m\u001b[0mkwds\u001b[0m\u001b[0;34m)\u001b[0m\u001b[0;34m\u001b[0m\u001b[0;34m\u001b[0m\u001b[0m\n\u001b[0m\u001b[1;32m    829\u001b[0m       \u001b[0mcompiler\u001b[0m \u001b[0;34m=\u001b[0m \u001b[0;34m\"xla\"\u001b[0m \u001b[0;32mif\u001b[0m \u001b[0mself\u001b[0m\u001b[0;34m.\u001b[0m\u001b[0m_experimental_compile\u001b[0m \u001b[0;32melse\u001b[0m \u001b[0;34m\"nonXla\"\u001b[0m\u001b[0;34m\u001b[0m\u001b[0;34m\u001b[0m\u001b[0m\n\u001b[1;32m    830\u001b[0m       \u001b[0mnew_tracing_count\u001b[0m \u001b[0;34m=\u001b[0m \u001b[0mself\u001b[0m\u001b[0;34m.\u001b[0m\u001b[0mexperimental_get_tracing_count\u001b[0m\u001b[0;34m(\u001b[0m\u001b[0;34m)\u001b[0m\u001b[0;34m\u001b[0m\u001b[0;34m\u001b[0m\u001b[0m\n",
            "\u001b[0;32m/usr/local/lib/python3.7/dist-packages/tensorflow/python/eager/def_function.py\u001b[0m in \u001b[0;36m_call\u001b[0;34m(self, *args, **kwds)\u001b[0m\n\u001b[1;32m    860\u001b[0m       \u001b[0;31m# In this case we have not created variables on the first call. So we can\u001b[0m\u001b[0;34m\u001b[0m\u001b[0;34m\u001b[0m\u001b[0;34m\u001b[0m\u001b[0m\n\u001b[1;32m    861\u001b[0m       \u001b[0;31m# run the first trace but we should fail if variables are created.\u001b[0m\u001b[0;34m\u001b[0m\u001b[0;34m\u001b[0m\u001b[0;34m\u001b[0m\u001b[0m\n\u001b[0;32m--> 862\u001b[0;31m       \u001b[0mresults\u001b[0m \u001b[0;34m=\u001b[0m \u001b[0mself\u001b[0m\u001b[0;34m.\u001b[0m\u001b[0m_stateful_fn\u001b[0m\u001b[0;34m(\u001b[0m\u001b[0;34m*\u001b[0m\u001b[0margs\u001b[0m\u001b[0;34m,\u001b[0m \u001b[0;34m**\u001b[0m\u001b[0mkwds\u001b[0m\u001b[0;34m)\u001b[0m\u001b[0;34m\u001b[0m\u001b[0;34m\u001b[0m\u001b[0m\n\u001b[0m\u001b[1;32m    863\u001b[0m       \u001b[0;32mif\u001b[0m \u001b[0mself\u001b[0m\u001b[0;34m.\u001b[0m\u001b[0m_created_variables\u001b[0m\u001b[0;34m:\u001b[0m\u001b[0;34m\u001b[0m\u001b[0;34m\u001b[0m\u001b[0m\n\u001b[1;32m    864\u001b[0m         raise ValueError(\"Creating variables on a non-first call to a function\"\n",
            "\u001b[0;32m/usr/local/lib/python3.7/dist-packages/tensorflow/python/eager/function.py\u001b[0m in \u001b[0;36m__call__\u001b[0;34m(self, *args, **kwargs)\u001b[0m\n\u001b[1;32m   2941\u001b[0m        filtered_flat_args) = self._maybe_define_function(args, kwargs)\n\u001b[1;32m   2942\u001b[0m     return graph_function._call_flat(\n\u001b[0;32m-> 2943\u001b[0;31m         filtered_flat_args, captured_inputs=graph_function.captured_inputs)  # pylint: disable=protected-access\n\u001b[0m\u001b[1;32m   2944\u001b[0m \u001b[0;34m\u001b[0m\u001b[0m\n\u001b[1;32m   2945\u001b[0m   \u001b[0;34m@\u001b[0m\u001b[0mproperty\u001b[0m\u001b[0;34m\u001b[0m\u001b[0;34m\u001b[0m\u001b[0m\n",
            "\u001b[0;32m/usr/local/lib/python3.7/dist-packages/tensorflow/python/eager/function.py\u001b[0m in \u001b[0;36m_call_flat\u001b[0;34m(self, args, captured_inputs, cancellation_manager)\u001b[0m\n\u001b[1;32m   1917\u001b[0m       \u001b[0;31m# No tape is watching; skip to running the function.\u001b[0m\u001b[0;34m\u001b[0m\u001b[0;34m\u001b[0m\u001b[0;34m\u001b[0m\u001b[0m\n\u001b[1;32m   1918\u001b[0m       return self._build_call_outputs(self._inference_function.call(\n\u001b[0;32m-> 1919\u001b[0;31m           ctx, args, cancellation_manager=cancellation_manager))\n\u001b[0m\u001b[1;32m   1920\u001b[0m     forward_backward = self._select_forward_and_backward_functions(\n\u001b[1;32m   1921\u001b[0m         \u001b[0margs\u001b[0m\u001b[0;34m,\u001b[0m\u001b[0;34m\u001b[0m\u001b[0;34m\u001b[0m\u001b[0m\n",
            "\u001b[0;32m/usr/local/lib/python3.7/dist-packages/tensorflow/python/eager/function.py\u001b[0m in \u001b[0;36mcall\u001b[0;34m(self, ctx, args, cancellation_manager)\u001b[0m\n\u001b[1;32m    558\u001b[0m               \u001b[0minputs\u001b[0m\u001b[0;34m=\u001b[0m\u001b[0margs\u001b[0m\u001b[0;34m,\u001b[0m\u001b[0;34m\u001b[0m\u001b[0;34m\u001b[0m\u001b[0m\n\u001b[1;32m    559\u001b[0m               \u001b[0mattrs\u001b[0m\u001b[0;34m=\u001b[0m\u001b[0mattrs\u001b[0m\u001b[0;34m,\u001b[0m\u001b[0;34m\u001b[0m\u001b[0;34m\u001b[0m\u001b[0m\n\u001b[0;32m--> 560\u001b[0;31m               ctx=ctx)\n\u001b[0m\u001b[1;32m    561\u001b[0m         \u001b[0;32melse\u001b[0m\u001b[0;34m:\u001b[0m\u001b[0;34m\u001b[0m\u001b[0;34m\u001b[0m\u001b[0m\n\u001b[1;32m    562\u001b[0m           outputs = execute.execute_with_cancellation(\n",
            "\u001b[0;32m/usr/local/lib/python3.7/dist-packages/tensorflow/python/eager/execute.py\u001b[0m in \u001b[0;36mquick_execute\u001b[0;34m(op_name, num_outputs, inputs, attrs, ctx, name)\u001b[0m\n\u001b[1;32m     58\u001b[0m     \u001b[0mctx\u001b[0m\u001b[0;34m.\u001b[0m\u001b[0mensure_initialized\u001b[0m\u001b[0;34m(\u001b[0m\u001b[0;34m)\u001b[0m\u001b[0;34m\u001b[0m\u001b[0;34m\u001b[0m\u001b[0m\n\u001b[1;32m     59\u001b[0m     tensors = pywrap_tfe.TFE_Py_Execute(ctx._handle, device_name, op_name,\n\u001b[0;32m---> 60\u001b[0;31m                                         inputs, attrs, num_outputs)\n\u001b[0m\u001b[1;32m     61\u001b[0m   \u001b[0;32mexcept\u001b[0m \u001b[0mcore\u001b[0m\u001b[0;34m.\u001b[0m\u001b[0m_NotOkStatusException\u001b[0m \u001b[0;32mas\u001b[0m \u001b[0me\u001b[0m\u001b[0;34m:\u001b[0m\u001b[0;34m\u001b[0m\u001b[0;34m\u001b[0m\u001b[0m\n\u001b[1;32m     62\u001b[0m     \u001b[0;32mif\u001b[0m \u001b[0mname\u001b[0m \u001b[0;32mis\u001b[0m \u001b[0;32mnot\u001b[0m \u001b[0;32mNone\u001b[0m\u001b[0;34m:\u001b[0m\u001b[0;34m\u001b[0m\u001b[0;34m\u001b[0m\u001b[0m\n",
            "\u001b[0;31mKeyboardInterrupt\u001b[0m: "
          ]
        }
      ],
      "source": [
        "def print_metrics(model, data, batch_size=batch_size, name=\"\", **kw):\n",
        "    squared_error = abs_error = num_samples = 0.0\n",
        "    for batch_x, batch_y in iterate_minibatches(data, batch_size=batch_size, shuffle=False, **kw):\n",
        "        batch_pred = model.predict(batch_x)[:, 0]\n",
        "        squared_error += np.sum(np.square(batch_pred - batch_y))\n",
        "        abs_error += np.sum(np.abs(batch_pred - batch_y))\n",
        "        num_samples += len(batch_y)\n",
        "    print(\"%s results:\" % (name or \"\"))\n",
        "    print(\"Mean square error: %.5f\" % (squared_error / num_samples))\n",
        "    print(\"Mean absolute error: %.5f\" % (abs_error / num_samples))\n",
        "    return squared_error, abs_error\n",
        "    \n",
        "print_metrics(model, data_train, name='Train')\n",
        "print_metrics(model, data_val, name='Val');"
      ]
    },
    {
      "cell_type": "markdown",
      "metadata": {
        "id": "hFD6oVAW_ftI"
      },
      "source": [
        "### Bonus part: explaining model predictions\n",
        "\n",
        "It's usually a good idea to understand how your model works before you let it make actual decisions. It's simple for linear models: just see which words learned positive or negative weights. However, its much harder for neural networks that learn complex nonlinear dependencies.\n",
        "\n",
        "There are, however, some ways to look inside the black box:\n",
        "* Seeing how model responds to input perturbations\n",
        "* Finding inputs that maximize/minimize activation of some chosen neurons (_read more [on distill.pub](https://distill.pub/2018/building-blocks/)_)\n",
        "* Building local linear approximations to your neural network: [article](https://arxiv.org/abs/1602.04938), [eli5 library](https://github.com/TeamHG-Memex/eli5/tree/master/eli5/formatters)\n",
        "\n",
        "Today we gonna try the first method just because it's the simplest one."
      ]
    },
    {
      "cell_type": "code",
      "execution_count": null,
      "metadata": {
        "id": "4zLHwGcR_ftJ"
      },
      "outputs": [],
      "source": [
        "def explain(model, sample, col_name='Title'):\n",
        "    \"\"\" Computes the effect each word had on model predictions \"\"\"\n",
        "    sample = dict(sample)\n",
        "    sample_col_tokens = [tokens[token_to_id.get(tok, 0)] for tok in sample[col_name].split()]\n",
        "    data_drop_one_token = pd.DataFrame([sample] * (len(sample_col_tokens) + 1))\n",
        "\n",
        "    for drop_i in range(len(sample_col_tokens)):\n",
        "        data_drop_one_token.loc[drop_i, col_name] = ' '.join(UNK if i == drop_i else tok\n",
        "                                                   for i, tok in enumerate(sample_col_tokens)) \n",
        "\n",
        "    *predictions_drop_one_token, baseline_pred = model.predict(make_batch(data_drop_one_token))[:, 0]\n",
        "    diffs = baseline_pred - predictions_drop_one_token\n",
        "    return list(zip(sample_col_tokens, diffs))"
      ]
    },
    {
      "cell_type": "code",
      "execution_count": null,
      "metadata": {
        "id": "EgEHrCqP_ftJ"
      },
      "outputs": [],
      "source": [
        "from IPython.display import HTML, display_html\n",
        "\n",
        "def draw_html(tokens_and_weights, cmap=plt.get_cmap(\"bwr\"), display=True,\n",
        "              token_template=\"\"\"<span style=\"background-color: {color_hex}\">{token}</span>\"\"\",\n",
        "              font_style=\"font-size:14px;\"\n",
        "             ):\n",
        "    \n",
        "    def get_color_hex(weight):\n",
        "        rgba = cmap(1. / (1 + np.exp(weight)), bytes=True)\n",
        "        return '#%02X%02X%02X' % rgba[:3]\n",
        "    \n",
        "    tokens_html = [\n",
        "        token_template.format(token=token, color_hex=get_color_hex(weight))\n",
        "        for token, weight in tokens_and_weights\n",
        "    ]\n",
        "    \n",
        "    \n",
        "    raw_html = \"\"\"<p style=\"{}\">{}</p>\"\"\".format(font_style, ' '.join(tokens_html))\n",
        "    if display:\n",
        "        display_html(HTML(raw_html))\n",
        "        \n",
        "    return raw_html\n",
        "    "
      ]
    },
    {
      "cell_type": "code",
      "execution_count": null,
      "metadata": {
        "colab": {
          "base_uri": "https://localhost:8080/",
          "height": 232
        },
        "id": "lGQDu_um_ftJ",
        "outputId": "34ad1ca1-4922-496c-d318-3bd6bebe87fa"
      },
      "outputs": [
        {
          "name": "stderr",
          "output_type": "stream",
          "text": [
            "/usr/local/lib/python3.7/dist-packages/tensorflow/python/keras/engine/functional.py:595: UserWarning: Input dict contained keys ['Log1pSalary'] which did not match any model input. They will be ignored by the model.\n",
            "  [n for n in tensors.keys() if n not in ref_input_names])\n"
          ]
        },
        {
          "data": {
            "text/html": [
              "<p style=\"font-size:20px;\"><span style=\"background-color: #9E9EFF\">sales</span> <span style=\"background-color: #B0B0FF\">specialist</span> <span style=\"background-color: #FFDEDE\">iv</span> <span style=\"background-color: #FFE6E6\">access</span> <span style=\"background-color: #FCFCFF\">and</span> <span style=\"background-color: #FFE4E4\">infusion</span></p>"
            ]
          },
          "metadata": {
            "tags": []
          },
          "output_type": "display_data"
        },
        {
          "data": {
            "text/html": [
              "<p style=\"font-size:14px;\"><span style=\"background-color: #FEFEFF\">sales</span> <span style=\"background-color: #FEFEFF\">representative</span> <span style=\"background-color: #FEFEFF\">medical</span> <span style=\"background-color: #FFFEFE\">sales</span> <span style=\"background-color: #FEFEFF\">iv</span> <span style=\"background-color: #FEFEFF\">access</span> <span style=\"background-color: #FEFEFF\">and</span> <span style=\"background-color: #FEFEFF\">infusion</span> <span style=\"background-color: #FFC0C0\">an</span> <span style=\"background-color: #FFF8F8\">opportunity</span> <span style=\"background-color: #FFF8F8\">to</span> <span style=\"background-color: #FF7676\">work</span> <span style=\"background-color: #FEFEFF\">for</span> <span style=\"background-color: #FFECEC\">the</span> <span style=\"background-color: #FFECEC\">industry</span> <span style=\"background-color: #FEFEFF\">leading</span> <span style=\"background-color: #FFECEC\">manufacturer</span> <span style=\"background-color: #FEFEFF\">of</span> <span style=\"background-color: #FFF8F8\">iv</span> <span style=\"background-color: #FFEAEA\">access</span> <span style=\"background-color: #FEFEFF\">and</span> <span style=\"background-color: #FFE8E8\">infusion</span> <span style=\"background-color: #FFF2F2\">solutions</span> <span style=\"background-color: #FFEEEE\">.</span> <span style=\"background-color: #FFF6F6\">formally</span> <span style=\"background-color: #FFB2B2\">recognised</span> <span style=\"background-color: #FFECEC\">as</span> <span style=\"background-color: #FFDADA\">the</span> <span style=\"background-color: #FFE0E0\">number</span> <span style=\"background-color: #FFE6E6\">****</span> <span style=\"background-color: #FEFEFF\">company</span> <span style=\"background-color: #FFD8D8\">in</span> <span style=\"background-color: #FF9C9C\">this</span> <span style=\"background-color: #FFF6F6\">market</span> <span style=\"background-color: #FFCCCC\">space</span> <span style=\"background-color: #FFE8E8\">,</span> <span style=\"background-color: #FFE4E4\">our</span> <span style=\"background-color: #F8F8FF\">client</span> <span style=\"background-color: #FFF6F6\">are</span> <span style=\"background-color: #CECEFF\">an</span> <span style=\"background-color: #FFA6A6\">ethical</span> <span style=\"background-color: #D6D6FF\">and</span> <span style=\"background-color: #FFE2E2\">dynamic</span> <span style=\"background-color: #FFF4F4\">organisation</span> <span style=\"background-color: #FFE2E2\">absolutely</span> <span style=\"background-color: #FFD3D3\">committed</span> <span style=\"background-color: #FFE8E8\">to</span> <span style=\"background-color: #FEFEFF\">the</span> <span style=\"background-color: #FFFAFA\">advancement</span> <span style=\"background-color: #FEFEFF\">of</span> <span style=\"background-color: #FEFEFF\">innovative</span> <span style=\"background-color: #FFE4E4\">technologies</span> <span style=\"background-color: #FEFEFF\">.</span> <span style=\"background-color: #FFCACA\">job</span> <span style=\"background-color: #FFCACA\">title</span> <span style=\"background-color: #FFF0F0\">:</span> <span style=\"background-color: #FEFEFF\">sales</span> <span style=\"background-color: #FEFEFF\">specialist</span> <span style=\"background-color: #FEFEFF\">iv</span> <span style=\"background-color: #FEFEFF\">access</span> <span style=\"background-color: #FEFEFF\">and</span> <span style=\"background-color: #FFF8F8\">infusion</span> <span style=\"background-color: #FFFEFE\">selling</span> <span style=\"background-color: #FFF4F4\">:</span> <span style=\"background-color: #FFD6D6\">medication</span> <span style=\"background-color: #FFFCFC\">delivery</span> <span style=\"background-color: #FFF2F2\">solutions</span> <span style=\"background-color: #FFBCBC\">selling</span> <span style=\"background-color: #FF9292\">to</span> <span style=\"background-color: #FFE2E2\">:</span> <span style=\"background-color: #FFD8D8\">iv</span> <span style=\"background-color: #FAFAFF\">teams</span> <span style=\"background-color: #FEFEFF\">,</span> <span style=\"background-color: #FF9696\">infection</span> <span style=\"background-color: #FFF0F0\">control</span> <span style=\"background-color: #FFF0F0\">,</span> <span style=\"background-color: #FFECEC\">lead</span> <span style=\"background-color: #FFDCDC\">intensive</span> <span style=\"background-color: #FFC6C6\">care</span> <span style=\"background-color: #FEFEFF\">nurse</span> <span style=\"background-color: #FFFCFC\">specialists</span> <span style=\"background-color: #FEFEFF\">,</span> <span style=\"background-color: #FFDEDE\">ward</span> <span style=\"background-color: #FFFEFE\">managers</span> <span style=\"background-color: #FFAEAE\">territory</span> <span style=\"background-color: #FFE8E8\">:</span> <span style=\"background-color: #FFEAEA\">east</span> <span style=\"background-color: #FFBABA\">midlands</span> <span style=\"background-color: #FFF2F2\">location</span> <span style=\"background-color: #FFF2F2\">:</span> <span style=\"background-color: #FFFEFE\">east</span> <span style=\"background-color: #FFD3D3\">midlands</span> <span style=\"background-color: #FFB0B0\">package</span> <span style=\"background-color: #FFE8E8\">:</span> <span style=\"background-color: #FF7E7E\">basic</span> <span style=\"background-color: #FFBEBE\">:</span> <span style=\"background-color: #FFC3C3\">****</span> <span style=\"background-color: #FFE6E6\">k</span> <span style=\"background-color: #FFEEEE\">****</span> <span style=\"background-color: #FFE8E8\">k</span> <span style=\"background-color: #FFE0E0\">,</span> <span style=\"background-color: #FFCCCC\">uncapped</span> <span style=\"background-color: #FCFCFF\">bonus</span> <span style=\"background-color: #FFF4F4\">in</span> <span style=\"background-color: #FFA2A2\">addition</span> <span style=\"background-color: #FCFCFF\">,</span> <span style=\"background-color: #FFD2D2\">full</span> <span style=\"background-color: #FFECEC\">corporate</span> <span style=\"background-color: #FFCECE\">benefits</span> <span style=\"background-color: #FFF6F6\">company</span> <span style=\"background-color: #FFFCFC\">information</span> <span style=\"background-color: #FFF4F4\">hugely</span> <span style=\"background-color: #FFC0C0\">ethical</span> <span style=\"background-color: #FFE0E0\">and</span> <span style=\"background-color: #FFDCDC\">professional</span> <span style=\"background-color: #FEFEFF\">global</span> <span style=\"background-color: #FFCCCC\">organisation</span> <span style=\"background-color: #FFECEC\">extremely</span> <span style=\"background-color: #FFE8E8\">well</span> <span style=\"background-color: #FFE8E8\">established</span> <span style=\"background-color: #FFF4F4\">in</span> <span style=\"background-color: #FFB3B3\">the</span> <span style=\"background-color: #FFC3C3\">uk</span> <span style=\"background-color: #FFD2D2\">the</span> <span style=\"background-color: #FFE6E6\">market</span> <span style=\"background-color: #FFE0E0\">leader</span> <span style=\"background-color: #FEFEFF\">across</span> <span style=\"background-color: #FFE0E0\">all</span> <span style=\"background-color: #FFDCDC\">of</span> <span style=\"background-color: #FFCECE\">their</span> <span style=\"background-color: #FFCECE\">core</span> <span style=\"background-color: #FFDCDC\">business</span> <span style=\"background-color: #FFB2B2\">areas</span> <span style=\"background-color: #FFF4F4\">focus</span> <span style=\"background-color: #FFFAFA\">on</span> <span style=\"background-color: #FEFEFF\">providing</span> <span style=\"background-color: #FFE6E6\">cutting</span> <span style=\"background-color: #FFDEDE\">edge</span> <span style=\"background-color: #FEFEFF\">solutions</span> <span style=\"background-color: #FEFEFF\">along</span> <span style=\"background-color: #FEFEFF\">with</span> <span style=\"background-color: #FFEEEE\">outstanding</span> <span style=\"background-color: #FFCECE\">service</span> <span style=\"background-color: #FFE6E6\">and</span> <span style=\"background-color: #FFCCCC\">support</span> <span style=\"background-color: #FEFEFF\">a</span> <span style=\"background-color: #FFE2E2\">business</span> <span style=\"background-color: #FFC6C6\">that</span> <span style=\"background-color: #FFEEEE\">retain</span> <span style=\"background-color: #FFECEC\">talented</span> <span style=\"background-color: #FEFEFF\">personnel</span> <span style=\"background-color: #FFEAEA\">by</span> <span style=\"background-color: #FF9C9C\">offering</span> <span style=\"background-color: #FFBCBC\">a</span> <span style=\"background-color: #FFD8D8\">strong</span> <span style=\"background-color: #FFD3D3\">platform</span> <span style=\"background-color: #FFF0F0\">for</span> <span style=\"background-color: #FFD0D0\">career</span> <span style=\"background-color: #FFFCFC\">development</span> <span style=\"background-color: #FFFCFC\">sales</span> <span style=\"background-color: #FEFEFF\">specialist</span> <span style=\"background-color: #FEFEFF\">iv</span> <span style=\"background-color: #FEFEFF\">access</span> <span style=\"background-color: #FEFEFF\">and</span> <span style=\"background-color: #FFE6E6\">infusion</span> <span style=\"background-color: #FFF4F4\">you</span> <span style=\"background-color: #FEFEFF\">must</span> <span style=\"background-color: #FEFEFF\">have</span> <span style=\"background-color: #FF8383\">/</span> <span style=\"background-color: #FFACAC\">be</span> <span style=\"background-color: #FEFEFF\">the</span> <span style=\"background-color: #F3F3FF\">following</span> <span style=\"background-color: #FFEEEE\">at</span> <span style=\"background-color: #F3F3FF\">least</span> <span style=\"background-color: #FFF6F6\">2</span> <span style=\"background-color: #FFF8F8\">years</span> <span style=\"background-color: #FFBCBC\">medical</span> <span style=\"background-color: #FFB0B0\">device</span> <span style=\"background-color: #FFA0A0\">sales</span> <span style=\"background-color: #FEFEFF\">experience</span> <span style=\"background-color: #FFF4F4\">.</span> <span style=\"background-color: #FFD2D2\">candidates</span> <span style=\"background-color: #FFD8D8\">who</span> <span style=\"background-color: #FEFEFF\">have</span> <span style=\"background-color: #FFE4E4\">sold</span> <span style=\"background-color: #FCFCFF\">disposables</span> <span style=\"background-color: #FFF0F0\">/</span> <span style=\"background-color: #FFF4F4\">consumables</span> <span style=\"background-color: #FCFCFF\">or</span> <span style=\"background-color: #FFDCDC\">similar</span> <span style=\"background-color: #FFDEDE\">into</span> <span style=\"background-color: #FFB3B3\">hospitals</span> <span style=\"background-color: #FFFAFA\">would</span> <span style=\"background-color: #FFD3D3\">be</span> <span style=\"background-color: #FFE8E8\">of</span> <span style=\"background-color: #FFD8D8\">particular</span> <span style=\"background-color: #FFA0A0\">interest</span> <span style=\"background-color: #FFF4F4\">.</span> <span style=\"background-color: #FFD0D0\">candidates</span> <span style=\"background-color: #FFD0D0\">must</span> <span style=\"background-color: #FFF4F4\">have</span> <span style=\"background-color: #FF8888\">sold</span> <span style=\"background-color: #FFF6F6\">into</span> <span style=\"background-color: #FFDCDC\">hospitals</span> <span style=\"background-color: #FFF8F8\">demonstrable</span> <span style=\"background-color: #FEFEFF\">performance</span> <span style=\"background-color: #FEFEFF\">and</span> <span style=\"background-color: #FFDCDC\">achievements</span> <span style=\"background-color: #FEFEFF\">so</span> <span style=\"background-color: #FEFEFF\">far</span> <span style=\"background-color: #FEFEFF\">personable</span> <span style=\"background-color: #FEFEFF\">,</span> <span style=\"background-color: #FFF4F4\">adaptable</span> <span style=\"background-color: #FFE2E2\">and</span> <span style=\"background-color: #FFF4F4\">willing</span> <span style=\"background-color: #FEFEFF\">to</span> <span style=\"background-color: #FFFCFC\">learn</span> <span style=\"background-color: #FEFEFF\">keen</span> <span style=\"background-color: #FEFEFF\">and</span> <span style=\"background-color: #FEFEFF\">eager</span> <span style=\"background-color: #FEFEFF\">to</span> <span style=\"background-color: #FFECEC\">be</span> <span style=\"background-color: #FFF8F8\">a</span> <span style=\"background-color: #FFCCCC\">success</span> <span style=\"background-color: #FFBCBC\">candidates</span> <span style=\"background-color: #FFF4F4\">must</span> <span style=\"background-color: #FFBEBE\">have</span> <span style=\"background-color: #FFA8A8\">a</span> <span style=\"background-color: #FFD3D3\">degree</span> <span style=\"background-color: #FFBEBE\">or</span> <span style=\"background-color: #FFF6F6\">at</span> <span style=\"background-color: #FFE6E6\">least</span> <span style=\"background-color: #FEFEFF\">be</span> <span style=\"background-color: #FFF8F8\">able</span> <span style=\"background-color: #FEFEFF\">to</span> <span style=\"background-color: #FFC8C8\">show</span> <span style=\"background-color: #FEFEFF\">a</span> <span style=\"background-color: #FFF2F2\">strong</span> <span style=\"background-color: #FFD2D2\">ability</span> <span style=\"background-color: #FEFEFF\">to</span> <span style=\"background-color: #FFF2F2\">learn</span> <span style=\"background-color: #FEFEFF\">role</span> <span style=\"background-color: #FFDEDE\">information</span> <span style=\"background-color: #FFE2E2\">managing</span> <span style=\"background-color: #FFE2E2\">the</span> <span style=\"background-color: #FFF2F2\">east</span> <span style=\"background-color: #FFFCFC\">midlands</span> <span style=\"background-color: #FFFAFA\">region</span> <span style=\"background-color: #FFF6F6\">selling</span> <span style=\"background-color: #FFE4E4\">across</span> <span style=\"background-color: #FFFEFE\">the</span> <span style=\"background-color: #FFF4F4\">company</span> <span style=\"background-color: #FFDADA\">'</span> <span style=\"background-color: #FFF4F4\">s</span> <span style=\"background-color: #FFFAFA\">range</span> <span style=\"background-color: #FEFEFF\">of</span> <span style=\"background-color: #FFE2E2\">iv</span> <span style=\"background-color: #FFE2E2\">and</span> <span style=\"background-color: #FFE8E8\">infusion</span> <span style=\"background-color: #FEFEFF\">solutions</span> <span style=\"background-color: #FFE4E4\">portfolio</span> <span style=\"background-color: #FFD3D3\">selling</span> <span style=\"background-color: #FFF0F0\">into</span> <span style=\"background-color: #FFFCFC\">lead</span> <span style=\"background-color: #FEFEFF\">intensive</span> <span style=\"background-color: #FFCCCC\">care</span> <span style=\"background-color: #FEFEFF\">nurse</span> <span style=\"background-color: #FFFCFC\">specialists</span> <span style=\"background-color: #FEFEFF\">,</span> <span style=\"background-color: #FFC0C0\">ward</span> <span style=\"background-color: #FFB3B3\">managers</span> <span style=\"background-color: #FFB3B3\">,</span> <span style=\"background-color: #FF8282\">iv</span> <span style=\"background-color: #FFF2F2\">teams</span> <span style=\"background-color: #FFE6E6\">,</span> <span style=\"background-color: #FF7474\">infection</span> <span style=\"background-color: #FFACAC\">control</span> <span style=\"background-color: #FFF4F4\">teams</span> <span style=\"background-color: #FFDEDE\">,</span> <span style=\"background-color: #FFACAC\">procurement</span> <span style=\"background-color: #FFD8D8\">sales</span> <span style=\"background-color: #FEFEFF\">specialist</span> <span style=\"background-color: #FEFEFF\">iv</span> <span style=\"background-color: #FEFEFF\">access</span> <span style=\"background-color: #FEFEFF\">and</span> <span style=\"background-color: #FFEAEA\">infusion</span> <span style=\"background-color: #FFEAEA\">candidates</span> <span style=\"background-color: #DCDCFF\">must</span> <span style=\"background-color: #CACAFF\">be</span> <span style=\"background-color: #FFB0B0\">eligible</span> <span style=\"background-color: #D8D8FF\">to</span> <span style=\"background-color: #F0F0FF\">work</span> <span style=\"background-color: #EAEAFF\">and</span> <span style=\"background-color: #FFA0A0\">live</span> <span style=\"background-color: #FFB0B0\">in</span> <span style=\"background-color: #E0E0FF\">the</span> <span style=\"background-color: #FFAAAA\">uk</span> <span style=\"background-color: #FFCECE\">.</span> <span style=\"background-color: #DEDEFF\">please</span> <span style=\"background-color: #FFEAEA\">contact</span> <span style=\"background-color: #FFBABA\">allan</span> <span style=\"background-color: #FF9A9A\">waller</span> <span style=\"background-color: #FF9292\">on</span> <span style=\"background-color: #FF7070\">****</span> <span style=\"background-color: #FFA2A2\">****</span> <span style=\"background-color: #FF9E9E\">****</span> <span style=\"background-color: #FF9A9A\">or</span> <span style=\"background-color: #FF7474\">please</span> <span style=\"background-color: #FFBABA\">hit</span> <span style=\"background-color: #FEFEFF\">the</span> <span style=\"background-color: #FEFEFF\">apply</span> <span style=\"background-color: #FFFEFE\">button</span> <span style=\"background-color: #FEFEFF\">.</span> <span style=\"background-color: #D2D2FF\">this</span> <span style=\"background-color: #DEDEFF\">job</span> <span style=\"background-color: #FFD3D3\">was</span> <span style=\"background-color: #FFE0E0\">originally</span> <span style=\"background-color: #FFD0D0\">posted</span> <span style=\"background-color: #FFEAEA\">as</span> <span style=\"background-color: #FFC2C2\">www</span> <span style=\"background-color: #F3F3FF\">.</span> <span style=\"background-color: #FFFCFC\">salestarget</span> <span style=\"background-color: #D6D6FF\">.</span> <span style=\"background-color: #FFA6A6\">co</span> <span style=\"background-color: #FFF4F4\">.</span> <span style=\"background-color: #D8D8FF\">uk</span> <span style=\"background-color: #FFB6B6\">/</span> <span style=\"background-color: #FFEAEA\">jobseeking</span> <span style=\"background-color: #DEDEFF\">/</span> <span style=\"background-color: #FFFEFE\">UNK</span> <span style=\"background-color: #FFFEFE\">****</span></p>"
            ]
          },
          "metadata": {
            "tags": []
          },
          "output_type": "display_data"
        }
      ],
      "source": [
        "i = 36605\n",
        "tokens_and_weights = explain(model, data.loc[i], \"Title\")\n",
        "draw_html([(tok, weight * 5) for tok, weight in tokens_and_weights], font_style='font-size:20px;');\n",
        "\n",
        "tokens_and_weights = explain(model, data.loc[i], \"FullDescription\")\n",
        "draw_html([(tok, weight * 10) for tok, weight in tokens_and_weights]);"
      ]
    },
    {
      "cell_type": "code",
      "execution_count": null,
      "metadata": {
        "colab": {
          "base_uri": "https://localhost:8080/",
          "height": 147
        },
        "id": "1TbERvwo_ftJ",
        "outputId": "e54d90ee-1b4e-4457-c2e4-e07bdb14851b"
      },
      "outputs": [
        {
          "name": "stderr",
          "output_type": "stream",
          "text": [
            "/usr/local/lib/python3.7/dist-packages/tensorflow/python/keras/engine/functional.py:595: UserWarning: Input dict contained keys ['Log1pSalary'] which did not match any model input. They will be ignored by the model.\n",
            "  [n for n in tensors.keys() if n not in ref_input_names])\n"
          ]
        },
        {
          "data": {
            "text/html": [
              "<p style=\"font-size:20px;\"><span style=\"background-color: #FF9696\">cleaning</span> <span style=\"background-color: #FFF4F4\">operative</span></p>"
            ]
          },
          "metadata": {
            "tags": []
          },
          "output_type": "display_data"
        },
        {
          "data": {
            "text/html": [
              "<p style=\"font-size:14px;\"><span style=\"background-color: #FFC8C8\">12</span> <span style=\"background-color: #F2F2FF\">.</span> <span style=\"background-color: #FFC3C3\">5</span> <span style=\"background-color: #FF6C6C\">hours</span> <span style=\"background-color: #FFB3B3\">per</span> <span style=\"background-color: #FF9C9C\">week</span> <span style=\"background-color: #FFE6E6\">monday</span> <span style=\"background-color: #FFD2D2\">friday</span> <span style=\"background-color: #FFB0B0\">9am</span> <span style=\"background-color: #FFD3D3\">11</span> <span style=\"background-color: #FFF4F4\">.</span> <span style=\"background-color: #FFA3A3\">30am</span> <span style=\"background-color: #FF7979\">duties</span> <span style=\"background-color: #FFCACA\">to</span> <span style=\"background-color: #FFBEBE\">include</span> <span style=\"background-color: #FFD0D0\">sweeping</span> <span style=\"background-color: #FFDCDC\">,</span> <span style=\"background-color: #FFA2A2\">mopping</span> <span style=\"background-color: #FFD6D6\">,</span> <span style=\"background-color: #FFBCBC\">vacuuming</span> <span style=\"background-color: #FFD8D8\">,</span> <span style=\"background-color: #FF9C9C\">buffing</span> <span style=\"background-color: #FFEEEE\">,</span> <span style=\"background-color: #FFC0C0\">cleaning</span> <span style=\"background-color: #FFAEAE\">staff</span> <span style=\"background-color: #FFC2C2\">toilets</span> <span style=\"background-color: #FAFAFF\">and</span> <span style=\"background-color: #FFAAAA\">rest</span> <span style=\"background-color: #FFB3B3\">room</span> <span style=\"background-color: #FFE8E8\">.</span> <span style=\"background-color: #FFE6E6\">must</span> <span style=\"background-color: #FF9898\">be</span> <span style=\"background-color: #FF8C8C\">able</span> <span style=\"background-color: #FFD8D8\">to</span> <span style=\"background-color: #FFD8D8\">read</span> <span style=\"background-color: #FFFEFE\">as</span> <span style=\"background-color: #FFD0D0\">they</span> <span style=\"background-color: #FFC6C6\">will</span> <span style=\"background-color: #FFC2C2\">be</span> <span style=\"background-color: #FFA8A8\">using</span> <span style=\"background-color: #FEFEFF\">UNK</span> <span style=\"background-color: #FF6060\">which</span> <span style=\"background-color: #FFD8D8\">need</span> <span style=\"background-color: #FEFEFF\">UNK</span> <span style=\"background-color: #FFB0B0\">as</span> <span style=\"background-color: #FFE8E8\">per</span> <span style=\"background-color: #FF6666\">instructions</span> <span style=\"background-color: #FCFCFF\">on</span> <span style=\"background-color: #FFE8E8\">the</span> <span style=\"background-color: #FF8686\">containers</span> <span style=\"background-color: #FFF2F2\">.</span> <span style=\"background-color: #FF8888\">sucessfull</span> <span style=\"background-color: #FFB2B2\">applicants</span> <span style=\"background-color: #FFF4F4\">will</span> <span style=\"background-color: #E0E0FF\">be</span> <span style=\"background-color: #FFB6B6\">trained</span> <span style=\"background-color: #F2F2FF\">on</span> <span style=\"background-color: #FFB2B2\">all</span> <span style=\"background-color: #FFF4F4\">electrical</span> <span style=\"background-color: #FF6969\">appliances</span> <span style=\"background-color: #FFDCDC\">and</span> <span style=\"background-color: #FEFEFF\">UNK</span> <span style=\"background-color: #FFCECE\">of</span> <span style=\"background-color: #FFBCBC\">cleaning</span> <span style=\"background-color: #FFD0D0\">materials</span> <span style=\"background-color: #FCFCFF\">.</span></p>"
            ]
          },
          "metadata": {
            "tags": []
          },
          "output_type": "display_data"
        }
      ],
      "source": [
        "i = 12077\n",
        "tokens_and_weights = explain(model, data.loc[i], \"Title\")\n",
        "draw_html([(tok, weight * 5) for tok, weight in tokens_and_weights], font_style='font-size:20px;');\n",
        "\n",
        "tokens_and_weights = explain(model, data.loc[i], \"FullDescription\")\n",
        "draw_html([(tok, weight * 10) for tok, weight in tokens_and_weights]);"
      ]
    },
    {
      "cell_type": "code",
      "execution_count": null,
      "metadata": {
        "colab": {
          "base_uri": "https://localhost:8080/",
          "height": 127
        },
        "id": "p3OAc6fU_ftK",
        "outputId": "ec728558-d36c-4933-8539-a073a28f152d"
      },
      "outputs": [
        {
          "name": "stdout",
          "output_type": "stream",
          "text": [
            "Index: 11895\n",
            "Salary (gbp): 305.03912\n"
          ]
        },
        {
          "data": {
            "text/html": [
              "<p style=\"font-size:20px;\"><span style=\"background-color: #FFA3A3\">morning</span> <span style=\"background-color: #FF7C7C\">cleaner</span></p>"
            ]
          },
          "metadata": {
            "tags": []
          },
          "output_type": "display_data"
        },
        {
          "data": {
            "text/html": [
              "<p style=\"font-size:14px;\"><span style=\"background-color: #FFFEFE\">morning</span> <span style=\"background-color: #FFE6E6\">cleaner</span> <span style=\"background-color: #FFEAEA\">required</span> <span style=\"background-color: #FFFAFA\">for</span> <span style=\"background-color: #FFC3C3\">busy</span> <span style=\"background-color: #FF8E8E\">cinema</span> <span style=\"background-color: #FFE4E4\">in</span> <span style=\"background-color: #FF8080\">redditch</span> <span style=\"background-color: #FFD2D2\">.</span> <span style=\"background-color: #FF9292\">shift</span> <span style=\"background-color: #FFA6A6\">is</span> <span style=\"background-color: #FF5656\">7am</span> <span style=\"background-color: #FFBCBC\">to</span> <span style=\"background-color: #FFA6A6\">9am</span> <span style=\"background-color: #FFAEAE\">6</span> <span style=\"background-color: #FF7878\">days</span> <span style=\"background-color: #FFA3A3\">a</span> <span style=\"background-color: #FF3434\">week</span> <span style=\"background-color: #FFB2B2\">.</span> <span style=\"background-color: #FFD8D8\">duties</span> <span style=\"background-color: #FF7C7C\">are</span> <span style=\"background-color: #FF5151\">daily</span> <span style=\"background-color: #FF7474\">cleaning</span> <span style=\"background-color: #FFDEDE\">and</span> <span style=\"background-color: #FFD3D3\">any</span> <span style=\"background-color: #FF8888\">additional</span> <span style=\"background-color: #FF8888\">work</span> <span style=\"background-color: #FFB6B6\">required</span> <span style=\"background-color: #FF9E9E\">by</span> <span style=\"background-color: #FF7070\">site</span> <span style=\"background-color: #FF2020\">supervisor</span> <span style=\"background-color: #FF8A8A\">.</span> <span style=\"background-color: #FF6E6E\">required</span> <span style=\"background-color: #FF7C7C\">for</span> <span style=\"background-color: #FF8C8C\">3</span> <span style=\"background-color: #FF7878\">months</span> <span style=\"background-color: #FF5050\">sickness</span> <span style=\"background-color: #FF5E5E\">cover</span> <span style=\"background-color: #FF9E9E\">,</span> <span style=\"background-color: #FF8A8A\">the</span> <span style=\"background-color: #FFA2A2\">position</span> <span style=\"background-color: #FF6969\">does</span> <span style=\"background-color: #FFF2F2\">have</span> <span style=\"background-color: #FF8A8A\">the</span> <span style=\"background-color: #FF9393\">potential</span> <span style=\"background-color: #FFDADA\">to</span> <span style=\"background-color: #FF8686\">turn</span> <span style=\"background-color: #FFC6C6\">permenant</span> <span style=\"background-color: #FFB8B8\">if</span> <span style=\"background-color: #FFA6A6\">a</span> <span style=\"background-color: #FFB8B8\">position</span> <span style=\"background-color: #FF4848\">becomes</span> <span style=\"background-color: #FF6C6C\">available</span> <span style=\"background-color: #FF8888\">.</span> <span style=\"background-color: #FF9898\">to</span> <span style=\"background-color: #FF1818\">apply</span> <span style=\"background-color: #FF8686\">please</span> <span style=\"background-color: #FFD6D6\">contact</span> <span style=\"background-color: #FF5151\">lesley</span> <span style=\"background-color: #FFBCBC\">on</span> <span style=\"background-color: #FFF2F2\">****</span></p>"
            ]
          },
          "metadata": {
            "tags": []
          },
          "output_type": "display_data"
        }
      ],
      "source": [
        "i = np.random.randint(len(data))\n",
        "print(\"Index:\", i)\n",
        "print(\"Salary (gbp):\", np.expm1(model.predict(make_batch(data.iloc[i: i+1]))[0, 0]))\n",
        "\n",
        "tokens_and_weights = explain(model, data.loc[i], \"Title\")\n",
        "draw_html([(tok, weight * 5) for tok, weight in tokens_and_weights], font_style='font-size:20px;');\n",
        "\n",
        "tokens_and_weights = explain(model, data.loc[i], \"FullDescription\")\n",
        "draw_html([(tok, weight * 10) for tok, weight in tokens_and_weights]);"
      ]
    },
    {
      "cell_type": "markdown",
      "metadata": {
        "id": "7X7CmEkm_ftK"
      },
      "source": [
        "__Terrible start-up idea #1962:__ make a tool that automaticaly rephrases your job description (or CV) to meet salary expectations :)"
      ]
    }
  ],
  "metadata": {
    "accelerator": "GPU",
    "colab": {
      "collapsed_sections": [
        "82cwxWvJ_ftF",
        "zlKebc4i_ftH"
      ],
      "name": "Intro to NN 4 (seminar)",
      "provenance": []
    },
    "kernelspec": {
      "display_name": "Python 3",
      "language": "python",
      "name": "python3"
    },
    "language_info": {
      "codemirror_mode": {
        "name": "ipython",
        "version": 3
      },
      "file_extension": ".py",
      "mimetype": "text/x-python",
      "name": "python",
      "nbconvert_exporter": "python",
      "pygments_lexer": "ipython3",
      "version": "3.11.9"
    }
  },
  "nbformat": 4,
  "nbformat_minor": 0
}
